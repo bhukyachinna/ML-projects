{
 "cells": [
  {
   "cell_type": "code",
   "execution_count": 6,
   "id": "6eeceac4-e4b2-4bd6-872e-d8236daf9a45",
   "metadata": {},
   "outputs": [],
   "source": [
    "import pandas as pd\n",
    "import matplotlib.pyplot as plt\n",
    "import numpy as np"
   ]
  },
  {
   "cell_type": "code",
   "execution_count": 3,
   "id": "9f664ea6-52d0-47da-b30b-17cd8cba8c16",
   "metadata": {},
   "outputs": [
    {
     "data": {
      "image/png": "[encoded data removed]",
      "text/plain": [
       "<Figure size 500x500 with 1 Axes>"
      ]
     },
     "metadata": {},
     "output_type": "display_data"
    }
   ],
   "source": [
    "df = pd.DataFrame({'A': [1, 2, 3], 'B': [4, 5, 6], 'C': [7, 8, 9]},\n",
    "                  index=pd.MultiIndex.from_tuples([('a', 1), ('a', 2), ('b', 1)],\n",
    "                                                  names=['level_1', 'level_2']))\n",
    "\n",
    "# Plot the pie chart\n",
    "df.plot.pie(y='C', figsize=(5, 5))\n",
    "plt.show()"
   ]
  },
  {
   "cell_type": "code",
   "execution_count": 4,
   "id": "6e9dd414-7ab1-40fe-ae04-d5665033c82f",
   "metadata": {},
   "outputs": [
    {
     "data": {
      "text/html": [
       "<div>\n",
       "<style scoped>\n",
       "    .dataframe tbody tr th:only-of-type {\n",
       "        vertical-align: middle;\n",
       "    }\n",
       "\n",
       "    .dataframe tbody tr th {\n",
       "        vertical-align: top;\n",
       "    }\n",
       "\n",
       "    .dataframe thead th {\n",
       "        text-align: right;\n",
       "    }\n",
       "</style>\n",
       "<table border=\"1\" class=\"dataframe\">\n",
       "  <thead>\n",
       "    <tr style=\"text-align: right;\">\n",
       "      <th></th>\n",
       "      <th></th>\n",
       "      <th>A</th>\n",
       "      <th>B</th>\n",
       "      <th>C</th>\n",
       "    </tr>\n",
       "    <tr>\n",
       "      <th>level_1</th>\n",
       "      <th>level_2</th>\n",
       "      <th></th>\n",
       "      <th></th>\n",
       "      <th></th>\n",
       "    </tr>\n",
       "  </thead>\n",
       "  <tbody>\n",
       "    <tr>\n",
       "      <th rowspan=\"2\" valign=\"top\">a</th>\n",
       "      <th>1</th>\n",
       "      <td>1</td>\n",
       "      <td>4</td>\n",
       "      <td>7</td>\n",
       "    </tr>\n",
       "    <tr>\n",
       "      <th>2</th>\n",
       "      <td>2</td>\n",
       "      <td>5</td>\n",
       "      <td>8</td>\n",
       "    </tr>\n",
       "    <tr>\n",
       "      <th>b</th>\n",
       "      <th>1</th>\n",
       "      <td>3</td>\n",
       "      <td>6</td>\n",
       "      <td>9</td>\n",
       "    </tr>\n",
       "  </tbody>\n",
       "</table>\n",
       "</div>"
      ],
      "text/plain": [
       "                 A  B  C\n",
       "level_1 level_2         \n",
       "a       1        1  4  7\n",
       "        2        2  5  8\n",
       "b       1        3  6  9"
      ]
     },
     "execution_count": 4,
     "metadata": {},
     "output_type": "execute_result"
    }
   ],
   "source": [
    "df"
   ]
  },
  {
   "cell_type": "code",
   "execution_count": 7,
   "id": "6e4338de-5198-4b86-a7e0-9c4329efb3c8",
   "metadata": {},
   "outputs": [
    {
     "name": "stdout",
     "output_type": "stream",
     "text": [
      "Initialized weights:\n",
      " [[ 0.09355255]\n",
      " [ 0.08233647]\n",
      " [-0.65477993]\n",
      " [ 0.00784816]\n",
      " [ 0.0845567 ]\n",
      " [ 0.16582217]\n",
      " [-0.09187006]\n",
      " [-0.1744755 ]\n",
      " [-0.23747446]\n",
      " [-0.15165778]\n",
      " [-0.06466075]\n",
      " [ 0.07833073]\n",
      " [-0.21713956]\n",
      " [-0.08380799]\n",
      " [-0.13537321]]\n",
      "Initialized bias:\n",
      " [0.]\n"
     ]
    }
   ],
   "source": [
    "n_features = 15\n",
    "\n",
    "# Initialize weights using Xavier initialization (suitable for sigmoid/tanh activations)\n",
    "w = np.random.randn(n_features, 1) * np.sqrt(1 / n_features)\n",
    "\n",
    "# Initialize biases to zero\n",
    "b = np.zeros((1,))\n",
    "\n",
    "print(\"Initialized weights:\\n\", w)\n",
    "print(\"Initialized bias:\\n\", b)"
   ]
  },
  {
   "cell_type": "code",
   "execution_count": null,
   "id": "7cbb6801-8d5b-44f7-a056-7b3cd4982c9e",
   "metadata": {},
   "outputs": [],
   "source": []
  },
  {
   "cell_type": "code",
   "execution_count": null,
   "id": "9da26a66-c4bf-4c89-b995-1ede03d91a7e",
   "metadata": {},
   "outputs": [],
   "source": []
  },
  {
   "cell_type": "code",
   "execution_count": null,
   "id": "2e010a7e-71ba-4978-84e4-5d968fb64f51",
   "metadata": {},
   "outputs": [],
   "source": []
  },
  {
   "cell_type": "code",
   "execution_count": null,
   "id": "f2ee1c44-b4dd-410a-9eef-ba92dc64e71e",
   "metadata": {},
   "outputs": [],
   "source": []
  },
  {
   "cell_type": "code",
   "execution_count": null,
   "id": "1fb41dd4-9f3f-4d55-aca6-acff38b8dcef",
   "metadata": {},
   "outputs": [],
   "source": []
  },
  {
   "cell_type": "code",
   "execution_count": null,
   "id": "6a0fd9e8-db57-4696-8c31-2c87986f05c9",
   "metadata": {},
   "outputs": [],
   "source": []
  },
  {
   "cell_type": "code",
   "execution_count": null,
   "id": "03fb5c9c-c911-4844-8205-5c296be2e841",
   "metadata": {},
   "outputs": [],
   "source": []
  }
 ],
 "metadata": {
  "kernelspec": {
   "display_name": "Python 3 (ipykernel)",
   "language": "python",
   "name": "python3"
  },
  "language_info": {
   "codemirror_mode": {
    "name": "ipython",
    "version": 3
   },
   "file_extension": ".py",
   "mimetype": "text/x-python",
   "name": "python",
   "nbconvert_exporter": "python",
   "pygments_lexer": "ipython3",
   "version": "3.11.7"
  }
 },
 "nbformat": 4,
 "nbformat_minor": 5
}
