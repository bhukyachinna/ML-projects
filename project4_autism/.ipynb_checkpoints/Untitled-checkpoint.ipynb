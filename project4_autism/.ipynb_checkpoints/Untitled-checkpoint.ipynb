{
 "cells": [
  {
   "cell_type": "code",
   "execution_count": 11,
   "id": "6eeceac4-e4b2-4bd6-872e-d8236daf9a45",
   "metadata": {},
   "outputs": [],
   "source": [
    "import pandas as pd"
   ]
  },
  {
   "cell_type": "code",
   "execution_count": 12,
   "id": "78e504e5-fe2d-41c1-b6d0-e5ae6fc95f8f",
   "metadata": {},
   "outputs": [],
   "source": [
    "df = pd.read_csv('train.csv')"
   ]
  },
  {
   "cell_type": "code",
   "execution_count": 16,
   "id": "bb434ce1-4d98-4b7e-8c81-9bcf0cbbb662",
   "metadata": {},
   "outputs": [
    {
     "data": {
      "text/plain": [
       "ID                 0\n",
       "A1_Score           0\n",
       "relation           0\n",
       "age_desc           0\n",
       "result             0\n",
       "used_app_before    0\n",
       "contry_of_res      0\n",
       "austim             0\n",
       "jaundice           0\n",
       "ethnicity          0\n",
       "gender             0\n",
       "age                0\n",
       "A10_Score          0\n",
       "A9_Score           0\n",
       "A8_Score           0\n",
       "A7_Score           0\n",
       "A6_Score           0\n",
       "A5_Score           0\n",
       "A4_Score           0\n",
       "A3_Score           0\n",
       "A2_Score           0\n",
       "Class/ASD          0\n",
       "dtype: int64"
      ]
     },
     "execution_count": 16,
     "metadata": {},
     "output_type": "execute_result"
    }
   ],
   "source": [
    "df.isnull().sum().sort_values(ascending = False)"
   ]
  },
  {
   "cell_type": "code",
   "execution_count": 19,
   "id": "2ee1c9a7-ec28-41ed-8a6f-0a2217a24f06",
   "metadata": {},
   "outputs": [
    {
     "data": {
      "text/plain": [
       "ID                 800\n",
       "A1_Score           800\n",
       "A2_Score           800\n",
       "A3_Score           800\n",
       "A4_Score           800\n",
       "A5_Score           800\n",
       "A6_Score           800\n",
       "A7_Score           800\n",
       "A8_Score           800\n",
       "A9_Score           800\n",
       "A10_Score          800\n",
       "age                800\n",
       "gender             800\n",
       "ethnicity          800\n",
       "jaundice           800\n",
       "austim             800\n",
       "contry_of_res      800\n",
       "used_app_before    800\n",
       "result             800\n",
       "age_desc           800\n",
       "relation           800\n",
       "Class/ASD          800\n",
       "dtype: int64"
      ]
     },
     "execution_count": 19,
     "metadata": {},
     "output_type": "execute_result"
    }
   ],
   "source": [
    "df.count()"
   ]
  },
  {
   "cell_type": "code",
   "execution_count": null,
   "id": "96ca0024-7ac8-4693-9f13-31c4b2a75b56",
   "metadata": {},
   "outputs": [],
   "source": []
  },
  {
   "cell_type": "code",
   "execution_count": null,
   "id": "9f664ea6-52d0-47da-b30b-17cd8cba8c16",
   "metadata": {},
   "outputs": [],
   "source": []
  },
  {
   "cell_type": "code",
   "execution_count": null,
   "id": "6e9dd414-7ab1-40fe-ae04-d5665033c82f",
   "metadata": {},
   "outputs": [],
   "source": []
  },
  {
   "cell_type": "code",
   "execution_count": null,
   "id": "6e4338de-5198-4b86-a7e0-9c4329efb3c8",
   "metadata": {},
   "outputs": [],
   "source": []
  },
  {
   "cell_type": "code",
   "execution_count": null,
   "id": "7cbb6801-8d5b-44f7-a056-7b3cd4982c9e",
   "metadata": {},
   "outputs": [],
   "source": []
  },
  {
   "cell_type": "code",
   "execution_count": null,
   "id": "9da26a66-c4bf-4c89-b995-1ede03d91a7e",
   "metadata": {},
   "outputs": [],
   "source": []
  },
  {
   "cell_type": "code",
   "execution_count": null,
   "id": "2e010a7e-71ba-4978-84e4-5d968fb64f51",
   "metadata": {},
   "outputs": [],
   "source": []
  },
  {
   "cell_type": "code",
   "execution_count": null,
   "id": "f2ee1c44-b4dd-410a-9eef-ba92dc64e71e",
   "metadata": {},
   "outputs": [],
   "source": []
  },
  {
   "cell_type": "code",
   "execution_count": null,
   "id": "1fb41dd4-9f3f-4d55-aca6-acff38b8dcef",
   "metadata": {},
   "outputs": [],
   "source": []
  },
  {
   "cell_type": "code",
   "execution_count": null,
   "id": "6a0fd9e8-db57-4696-8c31-2c87986f05c9",
   "metadata": {},
   "outputs": [],
   "source": []
  },
  {
   "cell_type": "code",
   "execution_count": null,
   "id": "03fb5c9c-c911-4844-8205-5c296be2e841",
   "metadata": {},
   "outputs": [],
   "source": []
  }
 ],
 "metadata": {
  "kernelspec": {
   "display_name": "Python 3 (ipykernel)",
   "language": "python",
   "name": "python3"
  },
  "language_info": {
   "codemirror_mode": {
    "name": "ipython",
    "version": 3
   },
   "file_extension": ".py",
   "mimetype": "text/x-python",
   "name": "python",
   "nbconvert_exporter": "python",
   "pygments_lexer": "ipython3",
   "version": "3.11.7"
  }
 },
 "nbformat": 4,
 "nbformat_minor": 5
}
