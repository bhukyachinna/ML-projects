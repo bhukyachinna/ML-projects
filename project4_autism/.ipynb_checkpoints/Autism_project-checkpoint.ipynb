{
 "cells": [
  {
   "cell_type": "code",
   "execution_count": 3,
   "id": "f7ba47dd-a783-48a3-a0af-1b426a4fdf06",
   "metadata": {},
   "outputs": [],
   "source": [
    "import pandas as pd\n",
    "import numpy as np\n",
    "import seaborn as sns\n",
    "import matplotlib.pyplot as plt"
   ]
  },
  {
   "cell_type": "code",
   "execution_count": 4,
   "id": "6dbe9aa1-658a-44ad-8264-7ca830ae77b5",
   "metadata": {},
   "outputs": [],
   "source": [
    "autism_dataset = pd.read_csv('train.csv')"
   ]
  },
  {
   "cell_type": "code",
   "execution_count": 5,
   "id": "4e7a2c61-f2af-45bf-baae-ed150b81a7eb",
   "metadata": {},
   "outputs": [
    {
     "data": {
      "text/html": [
       "<div>\n",
       "<style scoped>\n",
       "    .dataframe tbody tr th:only-of-type {\n",
       "        vertical-align: middle;\n",
       "    }\n",
       "\n",
       "    .dataframe tbody tr th {\n",
       "        vertical-align: top;\n",
       "    }\n",
       "\n",
       "    .dataframe thead th {\n",
       "        text-align: right;\n",
       "    }\n",
       "</style>\n",
       "<table border=\"1\" class=\"dataframe\">\n",
       "  <thead>\n",
       "    <tr style=\"text-align: right;\">\n",
       "      <th></th>\n",
       "      <th>ID</th>\n",
       "      <th>A1_Score</th>\n",
       "      <th>A2_Score</th>\n",
       "      <th>A3_Score</th>\n",
       "      <th>A4_Score</th>\n",
       "      <th>A5_Score</th>\n",
       "      <th>A6_Score</th>\n",
       "      <th>A7_Score</th>\n",
       "      <th>A8_Score</th>\n",
       "      <th>A9_Score</th>\n",
       "      <th>...</th>\n",
       "      <th>gender</th>\n",
       "      <th>ethnicity</th>\n",
       "      <th>jaundice</th>\n",
       "      <th>austim</th>\n",
       "      <th>contry_of_res</th>\n",
       "      <th>used_app_before</th>\n",
       "      <th>result</th>\n",
       "      <th>age_desc</th>\n",
       "      <th>relation</th>\n",
       "      <th>Class/ASD</th>\n",
       "    </tr>\n",
       "  </thead>\n",
       "  <tbody>\n",
       "    <tr>\n",
       "      <th>0</th>\n",
       "      <td>1</td>\n",
       "      <td>1</td>\n",
       "      <td>0</td>\n",
       "      <td>1</td>\n",
       "      <td>1</td>\n",
       "      <td>1</td>\n",
       "      <td>1</td>\n",
       "      <td>0</td>\n",
       "      <td>1</td>\n",
       "      <td>1</td>\n",
       "      <td>...</td>\n",
       "      <td>f</td>\n",
       "      <td>White-European</td>\n",
       "      <td>no</td>\n",
       "      <td>no</td>\n",
       "      <td>United States</td>\n",
       "      <td>no</td>\n",
       "      <td>7.819715</td>\n",
       "      <td>18 and more</td>\n",
       "      <td>Self</td>\n",
       "      <td>0</td>\n",
       "    </tr>\n",
       "    <tr>\n",
       "      <th>1</th>\n",
       "      <td>2</td>\n",
       "      <td>0</td>\n",
       "      <td>0</td>\n",
       "      <td>0</td>\n",
       "      <td>0</td>\n",
       "      <td>0</td>\n",
       "      <td>0</td>\n",
       "      <td>0</td>\n",
       "      <td>0</td>\n",
       "      <td>0</td>\n",
       "      <td>...</td>\n",
       "      <td>f</td>\n",
       "      <td>South Asian</td>\n",
       "      <td>no</td>\n",
       "      <td>no</td>\n",
       "      <td>Australia</td>\n",
       "      <td>no</td>\n",
       "      <td>10.544296</td>\n",
       "      <td>18 and more</td>\n",
       "      <td>?</td>\n",
       "      <td>0</td>\n",
       "    </tr>\n",
       "    <tr>\n",
       "      <th>2</th>\n",
       "      <td>3</td>\n",
       "      <td>1</td>\n",
       "      <td>1</td>\n",
       "      <td>1</td>\n",
       "      <td>1</td>\n",
       "      <td>1</td>\n",
       "      <td>1</td>\n",
       "      <td>0</td>\n",
       "      <td>0</td>\n",
       "      <td>1</td>\n",
       "      <td>...</td>\n",
       "      <td>f</td>\n",
       "      <td>White-European</td>\n",
       "      <td>no</td>\n",
       "      <td>no</td>\n",
       "      <td>United Kingdom</td>\n",
       "      <td>no</td>\n",
       "      <td>13.167506</td>\n",
       "      <td>18 and more</td>\n",
       "      <td>Self</td>\n",
       "      <td>1</td>\n",
       "    </tr>\n",
       "    <tr>\n",
       "      <th>3</th>\n",
       "      <td>4</td>\n",
       "      <td>0</td>\n",
       "      <td>0</td>\n",
       "      <td>0</td>\n",
       "      <td>1</td>\n",
       "      <td>0</td>\n",
       "      <td>0</td>\n",
       "      <td>0</td>\n",
       "      <td>0</td>\n",
       "      <td>0</td>\n",
       "      <td>...</td>\n",
       "      <td>f</td>\n",
       "      <td>South Asian</td>\n",
       "      <td>no</td>\n",
       "      <td>no</td>\n",
       "      <td>New Zealand</td>\n",
       "      <td>no</td>\n",
       "      <td>1.530098</td>\n",
       "      <td>18 and more</td>\n",
       "      <td>?</td>\n",
       "      <td>0</td>\n",
       "    </tr>\n",
       "    <tr>\n",
       "      <th>4</th>\n",
       "      <td>5</td>\n",
       "      <td>0</td>\n",
       "      <td>0</td>\n",
       "      <td>0</td>\n",
       "      <td>0</td>\n",
       "      <td>1</td>\n",
       "      <td>0</td>\n",
       "      <td>0</td>\n",
       "      <td>0</td>\n",
       "      <td>1</td>\n",
       "      <td>...</td>\n",
       "      <td>m</td>\n",
       "      <td>Black</td>\n",
       "      <td>no</td>\n",
       "      <td>yes</td>\n",
       "      <td>Italy</td>\n",
       "      <td>no</td>\n",
       "      <td>7.949723</td>\n",
       "      <td>18 and more</td>\n",
       "      <td>Self</td>\n",
       "      <td>0</td>\n",
       "    </tr>\n",
       "  </tbody>\n",
       "</table>\n",
       "<p>5 rows × 22 columns</p>\n",
       "</div>"
      ],
      "text/plain": [
       "   ID  A1_Score  A2_Score  A3_Score  A4_Score  A5_Score  A6_Score  A7_Score  \\\n",
       "0   1         1         0         1         1         1         1         0   \n",
       "1   2         0         0         0         0         0         0         0   \n",
       "2   3         1         1         1         1         1         1         0   \n",
       "3   4         0         0         0         1         0         0         0   \n",
       "4   5         0         0         0         0         1         0         0   \n",
       "\n",
       "   A8_Score  A9_Score  ...  gender       ethnicity jaundice austim  \\\n",
       "0         1         1  ...       f  White-European       no     no   \n",
       "1         0         0  ...       f     South Asian       no     no   \n",
       "2         0         1  ...       f  White-European       no     no   \n",
       "3         0         0  ...       f     South Asian       no     no   \n",
       "4         0         1  ...       m           Black       no    yes   \n",
       "\n",
       "    contry_of_res used_app_before     result     age_desc  relation Class/ASD  \n",
       "0   United States              no   7.819715  18 and more      Self         0  \n",
       "1       Australia              no  10.544296  18 and more         ?         0  \n",
       "2  United Kingdom              no  13.167506  18 and more      Self         1  \n",
       "3     New Zealand              no   1.530098  18 and more         ?         0  \n",
       "4           Italy              no   7.949723  18 and more      Self         0  \n",
       "\n",
       "[5 rows x 22 columns]"
      ]
     },
     "execution_count": 5,
     "metadata": {},
     "output_type": "execute_result"
    }
   ],
   "source": [
    "autism_dataset.head()"
   ]
  },
  {
   "cell_type": "code",
   "execution_count": 4,
   "id": "36b175f9-33ff-47af-8377-a16138fbb043",
   "metadata": {},
   "outputs": [
    {
     "name": "stdout",
     "output_type": "stream",
     "text": [
      "<class 'pandas.core.frame.DataFrame'>\n",
      "RangeIndex: 800 entries, 0 to 799\n",
      "Data columns (total 22 columns):\n",
      " #   Column           Non-Null Count  Dtype  \n",
      "---  ------           --------------  -----  \n",
      " 0   ID               800 non-null    int64  \n",
      " 1   A1_Score         800 non-null    int64  \n",
      " 2   A2_Score         800 non-null    int64  \n",
      " 3   A3_Score         800 non-null    int64  \n",
      " 4   A4_Score         800 non-null    int64  \n",
      " 5   A5_Score         800 non-null    int64  \n",
      " 6   A6_Score         800 non-null    int64  \n",
      " 7   A7_Score         800 non-null    int64  \n",
      " 8   A8_Score         800 non-null    int64  \n",
      " 9   A9_Score         800 non-null    int64  \n",
      " 10  A10_Score        800 non-null    int64  \n",
      " 11  age              800 non-null    float64\n",
      " 12  gender           800 non-null    object \n",
      " 13  ethnicity        800 non-null    object \n",
      " 14  jaundice         800 non-null    object \n",
      " 15  austim           800 non-null    object \n",
      " 16  contry_of_res    800 non-null    object \n",
      " 17  used_app_before  800 non-null    object \n",
      " 18  result           800 non-null    float64\n",
      " 19  age_desc         800 non-null    object \n",
      " 20  relation         800 non-null    object \n",
      " 21  Class/ASD        800 non-null    int64  \n",
      "dtypes: float64(2), int64(12), object(8)\n",
      "memory usage: 137.6+ KB\n"
     ]
    }
   ],
   "source": [
    "autism_dataset.info()"
   ]
  },
  {
   "cell_type": "code",
   "execution_count": null,
   "id": "27851479-c87b-4930-bb4b-c48046a0107e",
   "metadata": {},
   "outputs": [],
   "source": []
  },
  {
   "cell_type": "markdown",
   "id": "747a6ead-01c2-49a0-8dfa-a8099a9cbccf",
   "metadata": {},
   "source": [
    "### Data Preparation"
   ]
  },
  {
   "cell_type": "code",
   "execution_count": 6,
   "id": "be46db91-10a8-4dbe-ac72-d383796c35b9",
   "metadata": {},
   "outputs": [
    {
     "data": {
      "text/plain": [
       "Index(['ID', 'A1_Score', 'A2_Score', 'A3_Score', 'A4_Score', 'A5_Score',\n",
       "       'A6_Score', 'A7_Score', 'A8_Score', 'A9_Score', 'A10_Score', 'age',\n",
       "       'gender', 'ethnicity', 'jaundice', 'austim', 'contry_of_res',\n",
       "       'used_app_before', 'result', 'age_desc', 'relation', 'Class/ASD'],\n",
       "      dtype='object')"
      ]
     },
     "execution_count": 6,
     "metadata": {},
     "output_type": "execute_result"
    }
   ],
   "source": [
    "autism_dataset.columns"
   ]
  },
  {
   "cell_type": "code",
   "execution_count": 13,
   "id": "4c72ab7b-eb40-4b36-a247-86676b3f2365",
   "metadata": {},
   "outputs": [],
   "source": [
    "autism_columns = autism_dataset.columns\n",
    "null_df = pd.DataFrame(autism_dataset.isnull().sum() / len(autism_dataset) * 100)"
   ]
  },
  {
   "cell_type": "code",
   "execution_count": 18,
   "id": "56ae283a-2d4f-42ad-9baf-2f9d7dfd6604",
   "metadata": {},
   "outputs": [
    {
     "data": {
      "image/png": "[encoded data removed]",
      "text/plain": [
       "<Figure size 1400x500 with 1 Axes>"
      ]
     },
     "metadata": {},
     "output_type": "display_data"
    }
   ],
   "source": [
    "plt.figure(figsize = (14,5))\n",
    "sns.barplot(x = null_df.index, y = null_df[0])\n",
    "\n",
    "plt.title('Null values visualization')\n",
    "plt.tight_layout()\n",
    "plt.ylabel('Count')\n",
    "plt.xticks(rotation = 20)\n",
    "plt.show()"
   ]
  },
  {
   "cell_type": "markdown",
   "id": "716c586c-0e00-4571-9ebe-82d4b817db43",
   "metadata": {},
   "source": [
    "- Well there is null values in our dataset"
   ]
  },
  {
   "cell_type": "code",
   "execution_count": 5,
   "id": "64a53d79-94f2-4ae0-a372-05c19d663803",
   "metadata": {
    "editable": true,
    "slideshow": {
     "slide_type": ""
    },
    "tags": []
   },
   "outputs": [
    {
     "data": {
      "text/html": [
       "<div>\n",
       "<style scoped>\n",
       "    .dataframe tbody tr th:only-of-type {\n",
       "        vertical-align: middle;\n",
       "    }\n",
       "\n",
       "    .dataframe tbody tr th {\n",
       "        vertical-align: top;\n",
       "    }\n",
       "\n",
       "    .dataframe thead th {\n",
       "        text-align: right;\n",
       "    }\n",
       "</style>\n",
       "<table border=\"1\" class=\"dataframe\">\n",
       "  <thead>\n",
       "    <tr style=\"text-align: right;\">\n",
       "      <th></th>\n",
       "      <th>age</th>\n",
       "      <th>gender</th>\n",
       "      <th>ethnicity</th>\n",
       "      <th>jaundice</th>\n",
       "      <th>austim</th>\n",
       "      <th>contry_of_res</th>\n",
       "      <th>used_app_before</th>\n",
       "      <th>result</th>\n",
       "      <th>age_desc</th>\n",
       "      <th>relation</th>\n",
       "      <th>Class/ASD</th>\n",
       "    </tr>\n",
       "  </thead>\n",
       "  <tbody>\n",
       "    <tr>\n",
       "      <th>0</th>\n",
       "      <td>18.605397</td>\n",
       "      <td>f</td>\n",
       "      <td>White-European</td>\n",
       "      <td>no</td>\n",
       "      <td>no</td>\n",
       "      <td>United States</td>\n",
       "      <td>no</td>\n",
       "      <td>7.819715</td>\n",
       "      <td>18 and more</td>\n",
       "      <td>Self</td>\n",
       "      <td>0</td>\n",
       "    </tr>\n",
       "    <tr>\n",
       "      <th>1</th>\n",
       "      <td>13.829369</td>\n",
       "      <td>f</td>\n",
       "      <td>South Asian</td>\n",
       "      <td>no</td>\n",
       "      <td>no</td>\n",
       "      <td>Australia</td>\n",
       "      <td>no</td>\n",
       "      <td>10.544296</td>\n",
       "      <td>18 and more</td>\n",
       "      <td>?</td>\n",
       "      <td>0</td>\n",
       "    </tr>\n",
       "    <tr>\n",
       "      <th>2</th>\n",
       "      <td>14.679893</td>\n",
       "      <td>f</td>\n",
       "      <td>White-European</td>\n",
       "      <td>no</td>\n",
       "      <td>no</td>\n",
       "      <td>United Kingdom</td>\n",
       "      <td>no</td>\n",
       "      <td>13.167506</td>\n",
       "      <td>18 and more</td>\n",
       "      <td>Self</td>\n",
       "      <td>1</td>\n",
       "    </tr>\n",
       "    <tr>\n",
       "      <th>3</th>\n",
       "      <td>61.035288</td>\n",
       "      <td>f</td>\n",
       "      <td>South Asian</td>\n",
       "      <td>no</td>\n",
       "      <td>no</td>\n",
       "      <td>New Zealand</td>\n",
       "      <td>no</td>\n",
       "      <td>1.530098</td>\n",
       "      <td>18 and more</td>\n",
       "      <td>?</td>\n",
       "      <td>0</td>\n",
       "    </tr>\n",
       "    <tr>\n",
       "      <th>4</th>\n",
       "      <td>14.256686</td>\n",
       "      <td>m</td>\n",
       "      <td>Black</td>\n",
       "      <td>no</td>\n",
       "      <td>yes</td>\n",
       "      <td>Italy</td>\n",
       "      <td>no</td>\n",
       "      <td>7.949723</td>\n",
       "      <td>18 and more</td>\n",
       "      <td>Self</td>\n",
       "      <td>0</td>\n",
       "    </tr>\n",
       "    <tr>\n",
       "      <th>...</th>\n",
       "      <td>...</td>\n",
       "      <td>...</td>\n",
       "      <td>...</td>\n",
       "      <td>...</td>\n",
       "      <td>...</td>\n",
       "      <td>...</td>\n",
       "      <td>...</td>\n",
       "      <td>...</td>\n",
       "      <td>...</td>\n",
       "      <td>...</td>\n",
       "      <td>...</td>\n",
       "    </tr>\n",
       "    <tr>\n",
       "      <th>795</th>\n",
       "      <td>42.084907</td>\n",
       "      <td>f</td>\n",
       "      <td>White-European</td>\n",
       "      <td>no</td>\n",
       "      <td>yes</td>\n",
       "      <td>United States</td>\n",
       "      <td>no</td>\n",
       "      <td>13.390868</td>\n",
       "      <td>18 and more</td>\n",
       "      <td>Self</td>\n",
       "      <td>1</td>\n",
       "    </tr>\n",
       "    <tr>\n",
       "      <th>796</th>\n",
       "      <td>17.669291</td>\n",
       "      <td>f</td>\n",
       "      <td>Asian</td>\n",
       "      <td>no</td>\n",
       "      <td>no</td>\n",
       "      <td>New Zealand</td>\n",
       "      <td>no</td>\n",
       "      <td>9.454201</td>\n",
       "      <td>18 and more</td>\n",
       "      <td>Self</td>\n",
       "      <td>0</td>\n",
       "    </tr>\n",
       "    <tr>\n",
       "      <th>797</th>\n",
       "      <td>18.242557</td>\n",
       "      <td>m</td>\n",
       "      <td>White-European</td>\n",
       "      <td>yes</td>\n",
       "      <td>no</td>\n",
       "      <td>Jordan</td>\n",
       "      <td>no</td>\n",
       "      <td>6.805509</td>\n",
       "      <td>18 and more</td>\n",
       "      <td>Self</td>\n",
       "      <td>1</td>\n",
       "    </tr>\n",
       "    <tr>\n",
       "      <th>798</th>\n",
       "      <td>19.241473</td>\n",
       "      <td>f</td>\n",
       "      <td>Middle Eastern</td>\n",
       "      <td>no</td>\n",
       "      <td>yes</td>\n",
       "      <td>United States</td>\n",
       "      <td>no</td>\n",
       "      <td>3.682732</td>\n",
       "      <td>18 and more</td>\n",
       "      <td>Relative</td>\n",
       "      <td>0</td>\n",
       "    </tr>\n",
       "    <tr>\n",
       "      <th>799</th>\n",
       "      <td>32.170098</td>\n",
       "      <td>f</td>\n",
       "      <td>Asian</td>\n",
       "      <td>no</td>\n",
       "      <td>no</td>\n",
       "      <td>New Zealand</td>\n",
       "      <td>no</td>\n",
       "      <td>12.060168</td>\n",
       "      <td>18 and more</td>\n",
       "      <td>Self</td>\n",
       "      <td>0</td>\n",
       "    </tr>\n",
       "  </tbody>\n",
       "</table>\n",
       "<p>800 rows × 11 columns</p>\n",
       "</div>"
      ],
      "text/plain": [
       "           age gender        ethnicity jaundice austim   contry_of_res  \\\n",
       "0    18.605397      f   White-European       no     no   United States   \n",
       "1    13.829369      f      South Asian       no     no       Australia   \n",
       "2    14.679893      f   White-European       no     no  United Kingdom   \n",
       "3    61.035288      f      South Asian       no     no     New Zealand   \n",
       "4    14.256686      m            Black       no    yes           Italy   \n",
       "..         ...    ...              ...      ...    ...             ...   \n",
       "795  42.084907      f   White-European       no    yes   United States   \n",
       "796  17.669291      f            Asian       no     no     New Zealand   \n",
       "797  18.242557      m   White-European      yes     no          Jordan   \n",
       "798  19.241473      f  Middle Eastern        no    yes   United States   \n",
       "799  32.170098      f            Asian       no     no     New Zealand   \n",
       "\n",
       "    used_app_before     result     age_desc  relation  Class/ASD  \n",
       "0                no   7.819715  18 and more      Self          0  \n",
       "1                no  10.544296  18 and more         ?          0  \n",
       "2                no  13.167506  18 and more      Self          1  \n",
       "3                no   1.530098  18 and more         ?          0  \n",
       "4                no   7.949723  18 and more      Self          0  \n",
       "..              ...        ...          ...       ...        ...  \n",
       "795              no  13.390868  18 and more      Self          1  \n",
       "796              no   9.454201  18 and more      Self          0  \n",
       "797              no   6.805509  18 and more      Self          1  \n",
       "798              no   3.682732  18 and more  Relative          0  \n",
       "799              no  12.060168  18 and more      Self          0  \n",
       "\n",
       "[800 rows x 11 columns]"
      ]
     },
     "execution_count": 5,
     "metadata": {},
     "output_type": "execute_result"
    }
   ],
   "source": [
    "autism_dataset.iloc[:, 11:]"
   ]
  },
  {
   "cell_type": "code",
   "execution_count": 6,
   "id": "9014b8fd-16cf-4b0b-b5c3-572d34d89b4c",
   "metadata": {},
   "outputs": [
    {
     "data": {
      "text/plain": [
       "array(['Self', '?', 'Health care professional', 'Parent', 'Relative',\n",
       "       'Others'], dtype=object)"
      ]
     },
     "execution_count": 6,
     "metadata": {},
     "output_type": "execute_result"
    }
   ],
   "source": [
    "autism_dataset['relation'].unique()"
   ]
  },
  {
   "cell_type": "code",
   "execution_count": 7,
   "id": "57c67d22-dfae-4700-9a62-ca6a00cbff87",
   "metadata": {},
   "outputs": [
    {
     "data": {
      "text/plain": [
       "array(['White-European', 'South Asian', 'Black', 'Asian',\n",
       "       'Middle Eastern ', '?', 'others', 'Latino', 'Turkish', 'Others',\n",
       "       'Hispanic', 'Pasifika'], dtype=object)"
      ]
     },
     "execution_count": 7,
     "metadata": {},
     "output_type": "execute_result"
    }
   ],
   "source": [
    "autism_dataset['ethnicity'].unique()"
   ]
  },
  {
   "cell_type": "code",
   "execution_count": null,
   "id": "785cdf89-6c47-41bb-81cf-77a456ee207f",
   "metadata": {},
   "outputs": [],
   "source": []
  },
  {
   "cell_type": "markdown",
   "id": "c2c1499f-5265-4621-ae5b-23a8780c5e2a",
   "metadata": {},
   "source": [
    "- If we observe clearly `relation` and `ethnicity` columns are having values like '?', 'Others', 'others' since they denote unknown\n",
    "- let's maintain consistency for unknown values i.e., `Others`\n",
    "- 'yes' -> 1 and 'no' -> 0\n",
    "- 'm' 1 and 'f -> 0"
   ]
  },
  {
   "cell_type": "code",
   "execution_count": 8,
   "id": "120f1b48-b2c8-48c5-a112-b8a8e12bebd4",
   "metadata": {},
   "outputs": [
    {
     "data": {
      "text/html": [
       "<div>\n",
       "<style scoped>\n",
       "    .dataframe tbody tr th:only-of-type {\n",
       "        vertical-align: middle;\n",
       "    }\n",
       "\n",
       "    .dataframe tbody tr th {\n",
       "        vertical-align: top;\n",
       "    }\n",
       "\n",
       "    .dataframe thead th {\n",
       "        text-align: right;\n",
       "    }\n",
       "</style>\n",
       "<table border=\"1\" class=\"dataframe\">\n",
       "  <thead>\n",
       "    <tr style=\"text-align: right;\">\n",
       "      <th></th>\n",
       "      <th>ID</th>\n",
       "      <th>A1_Score</th>\n",
       "      <th>A2_Score</th>\n",
       "      <th>A3_Score</th>\n",
       "      <th>A4_Score</th>\n",
       "      <th>A5_Score</th>\n",
       "      <th>A6_Score</th>\n",
       "      <th>A7_Score</th>\n",
       "      <th>A8_Score</th>\n",
       "      <th>A9_Score</th>\n",
       "      <th>...</th>\n",
       "      <th>gender</th>\n",
       "      <th>ethnicity</th>\n",
       "      <th>jaundice</th>\n",
       "      <th>austim</th>\n",
       "      <th>contry_of_res</th>\n",
       "      <th>used_app_before</th>\n",
       "      <th>result</th>\n",
       "      <th>age_desc</th>\n",
       "      <th>relation</th>\n",
       "      <th>Class/ASD</th>\n",
       "    </tr>\n",
       "  </thead>\n",
       "  <tbody>\n",
       "    <tr>\n",
       "      <th>0</th>\n",
       "      <td>1</td>\n",
       "      <td>1</td>\n",
       "      <td>0</td>\n",
       "      <td>1</td>\n",
       "      <td>1</td>\n",
       "      <td>1</td>\n",
       "      <td>1</td>\n",
       "      <td>0</td>\n",
       "      <td>1</td>\n",
       "      <td>1</td>\n",
       "      <td>...</td>\n",
       "      <td>0</td>\n",
       "      <td>White-European</td>\n",
       "      <td>0</td>\n",
       "      <td>0</td>\n",
       "      <td>United States</td>\n",
       "      <td>0</td>\n",
       "      <td>7.819715</td>\n",
       "      <td>18 and more</td>\n",
       "      <td>Self</td>\n",
       "      <td>0</td>\n",
       "    </tr>\n",
       "    <tr>\n",
       "      <th>1</th>\n",
       "      <td>2</td>\n",
       "      <td>0</td>\n",
       "      <td>0</td>\n",
       "      <td>0</td>\n",
       "      <td>0</td>\n",
       "      <td>0</td>\n",
       "      <td>0</td>\n",
       "      <td>0</td>\n",
       "      <td>0</td>\n",
       "      <td>0</td>\n",
       "      <td>...</td>\n",
       "      <td>0</td>\n",
       "      <td>South Asian</td>\n",
       "      <td>0</td>\n",
       "      <td>0</td>\n",
       "      <td>Australia</td>\n",
       "      <td>0</td>\n",
       "      <td>10.544296</td>\n",
       "      <td>18 and more</td>\n",
       "      <td>Others</td>\n",
       "      <td>0</td>\n",
       "    </tr>\n",
       "    <tr>\n",
       "      <th>2</th>\n",
       "      <td>3</td>\n",
       "      <td>1</td>\n",
       "      <td>1</td>\n",
       "      <td>1</td>\n",
       "      <td>1</td>\n",
       "      <td>1</td>\n",
       "      <td>1</td>\n",
       "      <td>0</td>\n",
       "      <td>0</td>\n",
       "      <td>1</td>\n",
       "      <td>...</td>\n",
       "      <td>0</td>\n",
       "      <td>White-European</td>\n",
       "      <td>0</td>\n",
       "      <td>0</td>\n",
       "      <td>United Kingdom</td>\n",
       "      <td>0</td>\n",
       "      <td>13.167506</td>\n",
       "      <td>18 and more</td>\n",
       "      <td>Self</td>\n",
       "      <td>1</td>\n",
       "    </tr>\n",
       "    <tr>\n",
       "      <th>3</th>\n",
       "      <td>4</td>\n",
       "      <td>0</td>\n",
       "      <td>0</td>\n",
       "      <td>0</td>\n",
       "      <td>1</td>\n",
       "      <td>0</td>\n",
       "      <td>0</td>\n",
       "      <td>0</td>\n",
       "      <td>0</td>\n",
       "      <td>0</td>\n",
       "      <td>...</td>\n",
       "      <td>0</td>\n",
       "      <td>South Asian</td>\n",
       "      <td>0</td>\n",
       "      <td>0</td>\n",
       "      <td>New Zealand</td>\n",
       "      <td>0</td>\n",
       "      <td>1.530098</td>\n",
       "      <td>18 and more</td>\n",
       "      <td>Others</td>\n",
       "      <td>0</td>\n",
       "    </tr>\n",
       "    <tr>\n",
       "      <th>4</th>\n",
       "      <td>5</td>\n",
       "      <td>0</td>\n",
       "      <td>0</td>\n",
       "      <td>0</td>\n",
       "      <td>0</td>\n",
       "      <td>1</td>\n",
       "      <td>0</td>\n",
       "      <td>0</td>\n",
       "      <td>0</td>\n",
       "      <td>1</td>\n",
       "      <td>...</td>\n",
       "      <td>1</td>\n",
       "      <td>Black</td>\n",
       "      <td>0</td>\n",
       "      <td>1</td>\n",
       "      <td>Italy</td>\n",
       "      <td>0</td>\n",
       "      <td>7.949723</td>\n",
       "      <td>18 and more</td>\n",
       "      <td>Self</td>\n",
       "      <td>0</td>\n",
       "    </tr>\n",
       "    <tr>\n",
       "      <th>...</th>\n",
       "      <td>...</td>\n",
       "      <td>...</td>\n",
       "      <td>...</td>\n",
       "      <td>...</td>\n",
       "      <td>...</td>\n",
       "      <td>...</td>\n",
       "      <td>...</td>\n",
       "      <td>...</td>\n",
       "      <td>...</td>\n",
       "      <td>...</td>\n",
       "      <td>...</td>\n",
       "      <td>...</td>\n",
       "      <td>...</td>\n",
       "      <td>...</td>\n",
       "      <td>...</td>\n",
       "      <td>...</td>\n",
       "      <td>...</td>\n",
       "      <td>...</td>\n",
       "      <td>...</td>\n",
       "      <td>...</td>\n",
       "      <td>...</td>\n",
       "    </tr>\n",
       "    <tr>\n",
       "      <th>795</th>\n",
       "      <td>796</td>\n",
       "      <td>1</td>\n",
       "      <td>1</td>\n",
       "      <td>1</td>\n",
       "      <td>1</td>\n",
       "      <td>1</td>\n",
       "      <td>1</td>\n",
       "      <td>1</td>\n",
       "      <td>1</td>\n",
       "      <td>1</td>\n",
       "      <td>...</td>\n",
       "      <td>0</td>\n",
       "      <td>White-European</td>\n",
       "      <td>0</td>\n",
       "      <td>1</td>\n",
       "      <td>United States</td>\n",
       "      <td>0</td>\n",
       "      <td>13.390868</td>\n",
       "      <td>18 and more</td>\n",
       "      <td>Self</td>\n",
       "      <td>1</td>\n",
       "    </tr>\n",
       "    <tr>\n",
       "      <th>796</th>\n",
       "      <td>797</td>\n",
       "      <td>1</td>\n",
       "      <td>1</td>\n",
       "      <td>0</td>\n",
       "      <td>0</td>\n",
       "      <td>1</td>\n",
       "      <td>0</td>\n",
       "      <td>0</td>\n",
       "      <td>0</td>\n",
       "      <td>1</td>\n",
       "      <td>...</td>\n",
       "      <td>0</td>\n",
       "      <td>Asian</td>\n",
       "      <td>0</td>\n",
       "      <td>0</td>\n",
       "      <td>New Zealand</td>\n",
       "      <td>0</td>\n",
       "      <td>9.454201</td>\n",
       "      <td>18 and more</td>\n",
       "      <td>Self</td>\n",
       "      <td>0</td>\n",
       "    </tr>\n",
       "    <tr>\n",
       "      <th>797</th>\n",
       "      <td>798</td>\n",
       "      <td>0</td>\n",
       "      <td>0</td>\n",
       "      <td>0</td>\n",
       "      <td>0</td>\n",
       "      <td>0</td>\n",
       "      <td>0</td>\n",
       "      <td>1</td>\n",
       "      <td>0</td>\n",
       "      <td>1</td>\n",
       "      <td>...</td>\n",
       "      <td>1</td>\n",
       "      <td>White-European</td>\n",
       "      <td>1</td>\n",
       "      <td>0</td>\n",
       "      <td>Jordan</td>\n",
       "      <td>0</td>\n",
       "      <td>6.805509</td>\n",
       "      <td>18 and more</td>\n",
       "      <td>Self</td>\n",
       "      <td>1</td>\n",
       "    </tr>\n",
       "    <tr>\n",
       "      <th>798</th>\n",
       "      <td>799</td>\n",
       "      <td>1</td>\n",
       "      <td>1</td>\n",
       "      <td>1</td>\n",
       "      <td>1</td>\n",
       "      <td>1</td>\n",
       "      <td>1</td>\n",
       "      <td>0</td>\n",
       "      <td>1</td>\n",
       "      <td>1</td>\n",
       "      <td>...</td>\n",
       "      <td>0</td>\n",
       "      <td>Middle Eastern</td>\n",
       "      <td>0</td>\n",
       "      <td>1</td>\n",
       "      <td>United States</td>\n",
       "      <td>0</td>\n",
       "      <td>3.682732</td>\n",
       "      <td>18 and more</td>\n",
       "      <td>Relative</td>\n",
       "      <td>0</td>\n",
       "    </tr>\n",
       "    <tr>\n",
       "      <th>799</th>\n",
       "      <td>800</td>\n",
       "      <td>1</td>\n",
       "      <td>0</td>\n",
       "      <td>0</td>\n",
       "      <td>1</td>\n",
       "      <td>1</td>\n",
       "      <td>0</td>\n",
       "      <td>0</td>\n",
       "      <td>1</td>\n",
       "      <td>1</td>\n",
       "      <td>...</td>\n",
       "      <td>0</td>\n",
       "      <td>Asian</td>\n",
       "      <td>0</td>\n",
       "      <td>0</td>\n",
       "      <td>New Zealand</td>\n",
       "      <td>0</td>\n",
       "      <td>12.060168</td>\n",
       "      <td>18 and more</td>\n",
       "      <td>Self</td>\n",
       "      <td>0</td>\n",
       "    </tr>\n",
       "  </tbody>\n",
       "</table>\n",
       "<p>800 rows × 22 columns</p>\n",
       "</div>"
      ],
      "text/plain": [
       "      ID  A1_Score  A2_Score  A3_Score  A4_Score  A5_Score  A6_Score  \\\n",
       "0      1         1         0         1         1         1         1   \n",
       "1      2         0         0         0         0         0         0   \n",
       "2      3         1         1         1         1         1         1   \n",
       "3      4         0         0         0         1         0         0   \n",
       "4      5         0         0         0         0         1         0   \n",
       "..   ...       ...       ...       ...       ...       ...       ...   \n",
       "795  796         1         1         1         1         1         1   \n",
       "796  797         1         1         0         0         1         0   \n",
       "797  798         0         0         0         0         0         0   \n",
       "798  799         1         1         1         1         1         1   \n",
       "799  800         1         0         0         1         1         0   \n",
       "\n",
       "     A7_Score  A8_Score  A9_Score  ...  gender        ethnicity  jaundice  \\\n",
       "0           0         1         1  ...       0   White-European         0   \n",
       "1           0         0         0  ...       0      South Asian         0   \n",
       "2           0         0         1  ...       0   White-European         0   \n",
       "3           0         0         0  ...       0      South Asian         0   \n",
       "4           0         0         1  ...       1            Black         0   \n",
       "..        ...       ...       ...  ...     ...              ...       ...   \n",
       "795         1         1         1  ...       0   White-European         0   \n",
       "796         0         0         1  ...       0            Asian         0   \n",
       "797         1         0         1  ...       1   White-European         1   \n",
       "798         0         1         1  ...       0  Middle Eastern          0   \n",
       "799         0         1         1  ...       0            Asian         0   \n",
       "\n",
       "    austim   contry_of_res  used_app_before     result     age_desc  relation  \\\n",
       "0        0   United States                0   7.819715  18 and more      Self   \n",
       "1        0       Australia                0  10.544296  18 and more    Others   \n",
       "2        0  United Kingdom                0  13.167506  18 and more      Self   \n",
       "3        0     New Zealand                0   1.530098  18 and more    Others   \n",
       "4        1           Italy                0   7.949723  18 and more      Self   \n",
       "..     ...             ...              ...        ...          ...       ...   \n",
       "795      1   United States                0  13.390868  18 and more      Self   \n",
       "796      0     New Zealand                0   9.454201  18 and more      Self   \n",
       "797      0          Jordan                0   6.805509  18 and more      Self   \n",
       "798      1   United States                0   3.682732  18 and more  Relative   \n",
       "799      0     New Zealand                0  12.060168  18 and more      Self   \n",
       "\n",
       "    Class/ASD  \n",
       "0           0  \n",
       "1           0  \n",
       "2           1  \n",
       "3           0  \n",
       "4           0  \n",
       "..        ...  \n",
       "795         1  \n",
       "796         0  \n",
       "797         1  \n",
       "798         0  \n",
       "799         0  \n",
       "\n",
       "[800 rows x 22 columns]"
      ]
     },
     "execution_count": 8,
     "metadata": {},
     "output_type": "execute_result"
    }
   ],
   "source": [
    "autism_dataset.replace({'?':'Others', 'others':'Others', 'yes':1, 'no':0, 'm':1, 'f':0}, inplace=True)\n",
    "autism_dataset"
   ]
  },
  {
   "cell_type": "code",
   "execution_count": null,
   "id": "e480ad0f-1114-440f-b38f-0bf012db3814",
   "metadata": {},
   "outputs": [],
   "source": []
  },
  {
   "cell_type": "code",
   "execution_count": null,
   "id": "55a2c92a-3349-4405-b8f7-093ead12e78f",
   "metadata": {},
   "outputs": [],
   "source": []
  },
  {
   "cell_type": "markdown",
   "id": "727a2d57-f27e-4b52-bd1b-95cd7a322d4a",
   "metadata": {},
   "source": [
    "### Data Preprocessing"
   ]
  },
  {
   "cell_type": "markdown",
   "id": "f6c4833c-588d-4ade-9a6e-068668443d28",
   "metadata": {},
   "source": [
    "*Autism dataset is having categorical features which is incampatable for ML model so perform one-hot encode\n",
    "on categorical features*"
   ]
  },
  {
   "cell_type": "code",
   "execution_count": 9,
   "id": "e7d4066d-dd0a-4208-a76b-e6390f135208",
   "metadata": {},
   "outputs": [],
   "source": [
    "ethnicity_types = autism_dataset.ethnicity.unique()\n",
    "ethnicity_dict = {}\n",
    "for i, type in enumerate(ethnicity_types):\n",
    "    ethnicity_dict.setdefault(type, i + 1)\n",
    "\n",
    "autism_dataset.ethnicity.replace(ethnicity_dict, inplace = True)"
   ]
  },
  {
   "cell_type": "code",
   "execution_count": 10,
   "id": "5d26cfef-ce95-47b0-9945-5e49334b5aa1",
   "metadata": {},
   "outputs": [],
   "source": [
    "countries = autism_dataset.contry_of_res.unique()\n",
    "countries_dict = {}\n",
    "\n",
    "for i, country in enumerate(countries):\n",
    "    countries_dict.setdefault(country, i + 1)\n",
    "\n",
    "autism_dataset.contry_of_res.replace(countries_dict, inplace = True)"
   ]
  },
  {
   "cell_type": "code",
   "execution_count": null,
   "id": "b13e69e5-e4f0-43c7-b8b2-b825dbc161d8",
   "metadata": {},
   "outputs": [],
   "source": []
  },
  {
   "cell_type": "code",
   "execution_count": null,
   "id": "49eded70-5d74-4937-a6b4-a36b188d660f",
   "metadata": {},
   "outputs": [],
   "source": []
  },
  {
   "cell_type": "markdown",
   "id": "b5c39d21-f371-4c2f-a131-f1e0564733f7",
   "metadata": {},
   "source": [
    "### Splitting x_train, y_train and droping unnecessary features"
   ]
  },
  {
   "cell_type": "code",
   "execution_count": 12,
   "id": "d98cf345-fc4b-46bd-bdab-3b63d61414f5",
   "metadata": {},
   "outputs": [],
   "source": [
    "y_train = autism_dataset['Class/ASD']"
   ]
  },
  {
   "cell_type": "code",
   "execution_count": null,
   "id": "7ae0e56b-a30e-40d2-b46d-1568cd4758eb",
   "metadata": {},
   "outputs": [],
   "source": [
    "x_train = autism_dataset.drop(labels = ['ID', 'used_app_before', 'result',\t'age_desc',\t'relation', 'Class/ASD'], axis = 1)"
   ]
  },
  {
   "cell_type": "code",
   "execution_count": null,
   "id": "27dbb032-c911-45a3-9c17-653ce197eb0e",
   "metadata": {},
   "outputs": [],
   "source": []
  },
  {
   "cell_type": "markdown",
   "id": "b491bb39-8a32-46de-a490-c6be7be7bc37",
   "metadata": {},
   "source": [
    "### Normalizing age feature"
   ]
  },
  {
   "cell_type": "code",
   "execution_count": 24,
   "id": "11b29f5e-c370-4c57-b93b-15102f678bc4",
   "metadata": {},
   "outputs": [],
   "source": [
    "age_mean = x_train.age.mean()\n",
    "age_std = x_train.age.std()\n",
    "\n",
    "def scale_age(x):\n",
    "    return (x - age_mean) / age_std\n",
    "\n",
    "age_scaled = x_train.age.apply(scale_age)\n",
    "x_train.age = age_scaled"
   ]
  },
  {
   "cell_type": "markdown",
   "id": "d480fbb6-972a-48f5-9b4b-b06fc9514fa0",
   "metadata": {},
   "source": [
    "### Normalizing ethnicity feature"
   ]
  },
  {
   "cell_type": "code",
   "execution_count": 29,
   "id": "cad8491f-5e31-4930-b99b-8bc37835c370",
   "metadata": {},
   "outputs": [],
   "source": [
    "ethnicity_mean = x_train.ethnicity.mean()\n",
    "ethnicity_std = x_train.ethnicity.std()\n",
    "\n",
    "def scale_ethnicity(x):\n",
    "    return (x - ethnicity_mean) / ethnicity_std\n",
    "\n",
    "ethnicity_scaled = x_train.ethnicity.apply(scale_ethnicity)\n",
    "x_train.ethnicity = ethnicity_scaled"
   ]
  },
  {
   "cell_type": "markdown",
   "id": "77c87a9d-8d51-4aa6-8cb5-81e445c67ac1",
   "metadata": {},
   "source": [
    "### Normalizing contry_of_res feature"
   ]
  },
  {
   "cell_type": "code",
   "execution_count": 31,
   "id": "a72450f1-4931-4d9e-9406-ceb0aacf3d23",
   "metadata": {},
   "outputs": [],
   "source": [
    "contry_of_res_mean = x_train.contry_of_res.mean()\n",
    "contry_of_res_std = x_train.contry_of_res.std()\n",
    "\n",
    "def scale_contry_of_res(x):\n",
    "    return (x - contry_of_res_mean) / contry_of_res_std\n",
    "\n",
    "contry_of_res_scaled = x_train.contry_of_res.apply(scale_contry_of_res)\n",
    "x_train.contry_of_res = contry_of_res_scaled"
   ]
  },
  {
   "cell_type": "markdown",
   "id": "e9989664-0eb5-4379-9cbc-2d52a0981e35",
   "metadata": {},
   "source": [
    "### Test Dataframe"
   ]
  },
  {
   "cell_type": "code",
   "execution_count": 119,
   "id": "9f34dc0c-b87c-48cf-a61c-5e3ba925f0d9",
   "metadata": {},
   "outputs": [],
   "source": [
    "x_test = pd.read_csv('test.csv')"
   ]
  },
  {
   "cell_type": "code",
   "execution_count": 120,
   "id": "1821c00b-4a1e-47ea-b35a-af96f8b575da",
   "metadata": {},
   "outputs": [],
   "source": [
    "x_test.replace({'?':'Others', 'others':'Others', 'yes':1, 'no':0, 'm':1, 'f':0}, inplace=True)"
   ]
  },
  {
   "cell_type": "code",
   "execution_count": 121,
   "id": "113e3b95-3c05-4238-b100-f1616a0af9d4",
   "metadata": {},
   "outputs": [],
   "source": [
    "ethnicity_types = x_test.ethnicity.unique()\n",
    "ethnicity_dict = {}\n",
    "for i, type in enumerate(ethnicity_types):\n",
    "    ethnicity_dict.setdefault(type, i + 1)\n",
    "\n",
    "x_test.ethnicity.replace(ethnicity_dict, inplace = True)"
   ]
  },
  {
   "cell_type": "code",
   "execution_count": 122,
   "id": "3ca42cd0-7271-4191-80f9-01e09907d534",
   "metadata": {},
   "outputs": [],
   "source": [
    "countries = x_test.contry_of_res.unique()\n",
    "countries_dict = {}\n",
    "\n",
    "for i, country in enumerate(countries):\n",
    "    countries_dict.setdefault(country, i + 1)\n",
    "\n",
    "x_test.contry_of_res.replace(countries_dict, inplace = True)"
   ]
  },
  {
   "cell_type": "code",
   "execution_count": null,
   "id": "bc73478a-2574-4315-9859-35791f6660ec",
   "metadata": {},
   "outputs": [],
   "source": []
  },
  {
   "cell_type": "code",
   "execution_count": 123,
   "id": "ab246371-d521-4b3e-a5a1-91e777e1cade",
   "metadata": {},
   "outputs": [],
   "source": [
    "age_mean = x_test.age.mean()\n",
    "age_std = x_test.age.std()\n",
    "\n",
    "def scale_age(x):\n",
    "    return (x - age_mean) / age_std\n",
    "\n",
    "age_scaled = x_test.age.apply(scale_age)\n",
    "x_test.age = age_scaled"
   ]
  },
  {
   "cell_type": "code",
   "execution_count": 124,
   "id": "14b2720b-d5e0-4bcf-ace6-3c7ffc3dcd62",
   "metadata": {},
   "outputs": [],
   "source": [
    "ethnicity_mean = x_test.ethnicity.mean()\n",
    "ethnicity_std = x_test.ethnicity.std()\n",
    "\n",
    "def scale_ethnicity(x):\n",
    "    return (x - ethnicity_mean) / ethnicity_std\n",
    "\n",
    "ethnicity_scaled = x_test.ethnicity.apply(scale_ethnicity)\n",
    "x_test.ethnicity = ethnicity_scaled"
   ]
  },
  {
   "cell_type": "code",
   "execution_count": 125,
   "id": "a3d39f2c-d1c6-41e4-aad7-3fb422d62415",
   "metadata": {},
   "outputs": [],
   "source": [
    "contry_of_res_mean = x_test.contry_of_res.mean()\n",
    "contry_of_res_std = x_test.contry_of_res.std()\n",
    "\n",
    "def scale_contry_of_res(x):\n",
    "    return (x - contry_of_res_mean) / contry_of_res_std\n",
    "\n",
    "contry_of_res_scaled = x_test.contry_of_res.apply(scale_contry_of_res)\n",
    "x_test.contry_of_res = contry_of_res_scaled"
   ]
  },
  {
   "cell_type": "code",
   "execution_count": 126,
   "id": "d0f22de0-a17d-463a-8dd9-5356c72a3299",
   "metadata": {},
   "outputs": [],
   "source": [
    "x_test = x_test.drop(labels = ['ID', 'used_app_before', 'result', 'age_desc', 'relation'], axis = 1)"
   ]
  },
  {
   "cell_type": "code",
   "execution_count": 127,
   "id": "5253dcc8-6cfa-4b76-9213-f140736a8a75",
   "metadata": {},
   "outputs": [],
   "source": [
    "x_test = x_test.to_numpy()"
   ]
  },
  {
   "cell_type": "code",
   "execution_count": null,
   "id": "39e42daf-a792-41b4-8336-9c2cc9ce4ce3",
   "metadata": {},
   "outputs": [],
   "source": []
  },
  {
   "cell_type": "markdown",
   "id": "8c6aa538-775d-43bd-b44b-7617e45fd9c3",
   "metadata": {},
   "source": [
    "### Model training"
   ]
  },
  {
   "cell_type": "markdown",
   "id": "4f21f7ee-a977-4da7-b911-7e93b68cc6fb",
   "metadata": {},
   "source": [
    "- Choosing 'W' and 'b' parameters for model"
   ]
  },
  {
   "cell_type": "code",
   "execution_count": 51,
   "id": "d25c25e4-114e-4af8-be01-7a2653a536bd",
   "metadata": {},
   "outputs": [],
   "source": [
    "# Initializing parameters(Weights, Bias)\n",
    "def initialize_parameters(no_features):\n",
    "    w = np.zeros(no_features)\n",
    "    b = 0.1\n",
    "    return w, b"
   ]
  },
  {
   "cell_type": "code",
   "execution_count": 94,
   "id": "48f6eec2-9ec5-4ed8-8c5b-5c91a811d0a4",
   "metadata": {},
   "outputs": [],
   "source": [
    "def accuracy(y_hat, y):\n",
    "    m = y_hat.shape[0]\n",
    "    right = 0\n",
    "    for i in range(m):\n",
    "        if y[i] == y_hat[i]:\n",
    "            right += 1\n",
    "    return (right / m) * 100"
   ]
  },
  {
   "cell_type": "code",
   "execution_count": 40,
   "id": "37120a15-ae60-48c2-b370-aca58a820d5e",
   "metadata": {},
   "outputs": [],
   "source": [
    "# Sigmoid function\n",
    "def sigmoid(z):\n",
    "    return 1 / (1 + np.exp(-z))"
   ]
  },
  {
   "cell_type": "code",
   "execution_count": 113,
   "id": "7d0139ec-9bd4-4db1-b777-ea17d85d9959",
   "metadata": {},
   "outputs": [],
   "source": [
    "def predict(x, w, b):\n",
    "    m, n = x.shape\n",
    "    cost = 0.\n",
    "    final_cost = 0.\n",
    "    y_hat = np.zeros(m)\n",
    "    \n",
    "    for i in range(m):\n",
    "        z = np.dot(x[i], w) + b\n",
    "        y_hat[i] = sigmoid(z)\n",
    "        \n",
    "    y_hat = y_hat >= 0.5\n",
    "    return y_hat"
   ]
  },
  {
   "cell_type": "code",
   "execution_count": 59,
   "id": "b489d327-abe1-4c6f-a6ed-7ab33e6748af",
   "metadata": {},
   "outputs": [],
   "source": [
    "# Cost function      \n",
    "def regularized_cost(x, y, w, b, lamb):                  \n",
    "    # lamb-> Lamda\n",
    "    m, n = x.shape\n",
    "    cost = 0.\n",
    "    final_cost = 0.\n",
    "    \n",
    "    for i in range(m):\n",
    "        z = np.dot(x[i], w) + b\n",
    "        fwb_i = sigmoid(z)\n",
    "        cost += -y[i] * np.log(fwb_i) - (1 - y[i]) * np.log(1 - fwb_i)\n",
    "    cost /= m\n",
    "\n",
    "    regu_term = 0.\n",
    "    for j in range(n):\n",
    "        regu_term += (w[j]) ** 2\n",
    "    regu_term *= (lamb / (2 * m))\n",
    "\n",
    "    final_cost = cost + regu_term\n",
    "    return final_cost"
   ]
  },
  {
   "cell_type": "code",
   "execution_count": 74,
   "id": "36f30e06-494f-40ae-b021-c53940203fbb",
   "metadata": {},
   "outputs": [],
   "source": [
    "# Gradient function\n",
    "def gradient(x, y, w, b, alpha, lamb):\n",
    "    m, n = x.shape\n",
    "    dj_dw = np.zeros(n)\n",
    "    dj_db = 0.\n",
    "\n",
    "    for i in range(m):\n",
    "        z = np.dot(x[i], w) + b\n",
    "        fwb_i = sigmoid(z)\n",
    "        err = fwb_i - y[i]\n",
    "        for j in range(n):\n",
    "            dj_dw[j] += err * x[i, j]\n",
    "        dj_db += err\n",
    "    dj_dw /= m\n",
    "    \n",
    "    for j in range(n):\n",
    "        dj_dw[j] += (lamb / m) * w[j]\n",
    "\n",
    "    return dj_dw, dj_db"
   ]
  },
  {
   "cell_type": "code",
   "execution_count": 78,
   "id": "964bc5c5-5619-4457-ad9f-e221fb898c28",
   "metadata": {},
   "outputs": [],
   "source": [
    "# Gradient descent \n",
    "def gradient_descent(x, y, w, b, no_iter, alpha, lamb):\n",
    "    m, n = x.shape\n",
    "    div = no_iter / 10\n",
    "    cost_history = []\n",
    "    \n",
    "    for i in range(no_iter):\n",
    "        dj_dw, dj_db = gradient(x, y, w, b, alpha, lamb)\n",
    "        w = w - alpha * dj_dw\n",
    "        b = b - alpha * dj_db\n",
    "\n",
    "        if ((i + 1) % div) == 0:\n",
    "            cost = regularized_cost(x, y, w, b, lamb)\n",
    "            cost_history.append(cost)\n",
    "            print(f'Iteration {i + 1} : Cost is {cost}')\n",
    "    \n",
    "    return w, b, cost_history"
   ]
  },
  {
   "cell_type": "markdown",
   "id": "91078478-9c10-4895-90a9-ef24b362120f",
   "metadata": {},
   "source": [
    "- convert x_train and y_train to numpy array from pandas dataframe"
   ]
  },
  {
   "cell_type": "code",
   "execution_count": 82,
   "id": "d52b2eed-1681-435f-8a10-10e58ba5fcf9",
   "metadata": {
    "scrolled": true
   },
   "outputs": [
    {
     "name": "stdout",
     "output_type": "stream",
     "text": [
      "Iteration 200 : Cost is 0.41073593385770396\n",
      "Iteration 400 : Cost is 0.3593244698291831\n",
      "Iteration 600 : Cost is 0.3343286206755585\n",
      "Iteration 800 : Cost is 0.32002216747857776\n",
      "Iteration 1000 : Cost is 0.3109212354283811\n",
      "Iteration 1200 : Cost is 0.30471646380382134\n",
      "Iteration 1400 : Cost is 0.3002808859870757\n",
      "Iteration 1600 : Cost is 0.29700040426027297\n",
      "Iteration 1800 : Cost is 0.2945114913833025\n",
      "Iteration 2000 : Cost is 0.2925849962684906\n"
     ]
    }
   ],
   "source": [
    "lamb = 0.01    \n",
    "no_iter = 2000\n",
    "alpha = 0.01\n",
    "\n",
    "w_ini, b_ini = initialize_parameters(x_train.shape[1])\n",
    "w_final, b_final, cost_history = gradient_descent(x_train, y_train, w_ini, b_ini, no_iter, alpha, lamb)"
   ]
  },
  {
   "cell_type": "code",
   "execution_count": 83,
   "id": "b82f9a53-4eda-4285-a4aa-584d9edb8ea8",
   "metadata": {},
   "outputs": [
    {
     "name": "stdout",
     "output_type": "stream",
     "text": [
      "Initial para : \n",
      "b -> 0.1\n",
      "w -> [0. 0. 0. 0. 0. 0. 0. 0. 0. 0. 0. 0. 0. 0. 0. 0.]\n",
      "Final para : \n",
      "b -> -3.79604623422315\n",
      "w -> [ 0.30130859  0.38929581  0.68411283  0.65170984  0.53492898  0.62230406\n",
      "  0.40524659  0.19172646  0.60496899  0.53212136  0.05068585 -0.07506319\n",
      " -0.19699698  0.23556269  0.37029309 -0.17823664]\n"
     ]
    }
   ],
   "source": [
    "print(f'Initial para : \\nb -> {b_ini}\\nw -> {w_ini}'); print(f'Final para : \\nb -> {b_final}\\nw -> {w_final}')"
   ]
  },
  {
   "cell_type": "code",
   "execution_count": 114,
   "id": "8db29f0c-bc06-4962-815c-f2aba2251731",
   "metadata": {},
   "outputs": [],
   "source": [
    "predi = predict(x_train, w_final, b_final)"
   ]
  },
  {
   "cell_type": "code",
   "execution_count": 96,
   "id": "ab1ed6cb-4ff8-4925-a89e-4c5b75736bb9",
   "metadata": {},
   "outputs": [
    {
     "name": "stdout",
     "output_type": "stream",
     "text": [
      "Accuracy of model is 88.12\n"
     ]
    }
   ],
   "source": [
    "score = accuracy(predi, y_train)\n",
    "print(f'Accuracy of model is {score:.2f}')"
   ]
  },
  {
   "cell_type": "code",
   "execution_count": null,
   "id": "92798f99-5726-4375-aca8-8e89330bd8c5",
   "metadata": {},
   "outputs": [],
   "source": []
  },
  {
   "cell_type": "code",
   "execution_count": null,
   "id": "eb855281-d30f-4db7-b868-83dcd8933558",
   "metadata": {},
   "outputs": [],
   "source": []
  },
  {
   "cell_type": "markdown",
   "id": "1518d5f4-c3a7-465c-b407-e38fa5a9ef9e",
   "metadata": {},
   "source": [
    "### Testing Model"
   ]
  },
  {
   "cell_type": "code",
   "execution_count": 131,
   "id": "182c12a1-80c6-4d81-a259-89ccd0500ea8",
   "metadata": {},
   "outputs": [],
   "source": [
    "y_test = predict(x_test, w_final, b_final)"
   ]
  },
  {
   "cell_type": "code",
   "execution_count": 135,
   "id": "f9a44715-a6a9-4ab4-b36b-db0e36ed5941",
   "metadata": {},
   "outputs": [
    {
     "name": "stdout",
     "output_type": "stream",
     "text": [
      "Testing True 36\n"
     ]
    }
   ],
   "source": [
    "test_score = np.sum(y_test)\n",
    "print(f'Testing True {test_score}')"
   ]
  },
  {
   "cell_type": "code",
   "execution_count": null,
   "id": "e2205663-70d0-4e61-95e8-a1b9abffb0e2",
   "metadata": {},
   "outputs": [],
   "source": []
  },
  {
   "cell_type": "code",
   "execution_count": null,
   "id": "72d981ca-bcbf-4b32-92cd-c791c4b8368c",
   "metadata": {},
   "outputs": [],
   "source": []
  }
 ],
 "metadata": {
  "kernelspec": {
   "display_name": "Python 3 (ipykernel)",
   "language": "python",
   "name": "python3"
  },
  "language_info": {
   "codemirror_mode": {
    "name": "ipython",
    "version": 3
   },
   "file_extension": ".py",
   "mimetype": "text/x-python",
   "name": "python",
   "nbconvert_exporter": "python",
   "pygments_lexer": "ipython3",
   "version": "3.11.7"
  }
 },
 "nbformat": 4,
 "nbformat_minor": 5
}
