{
 "cells": [
  {
   "cell_type": "code",
   "execution_count": 3,
   "id": "0aea1c82-9d4a-41bd-800c-027b68a0f292",
   "metadata": {},
   "outputs": [],
   "source": [
    "import pandas as pd\n",
    "import numpy as np\n",
    "import matplotlib.pyplot as plt\n",
    "import seaborn as sns"
   ]
  },
  {
   "cell_type": "code",
   "execution_count": 4,
   "id": "9fd89ad1-dc39-483f-ab75-b6428dc1d31c",
   "metadata": {},
   "outputs": [],
   "source": [
    "breast_cancer = pd.read_csv('data.csv')"
   ]
  },
  {
   "cell_type": "code",
   "execution_count": 5,
   "id": "c4857c66-7241-4b80-8f53-b86a15a1110d",
   "metadata": {},
   "outputs": [
    {
     "data": {
      "text/html": [
       "<div>\n",
       "<style scoped>\n",
       "    .dataframe tbody tr th:only-of-type {\n",
       "        vertical-align: middle;\n",
       "    }\n",
       "\n",
       "    .dataframe tbody tr th {\n",
       "        vertical-align: top;\n",
       "    }\n",
       "\n",
       "    .dataframe thead th {\n",
       "        text-align: right;\n",
       "    }\n",
       "</style>\n",
       "<table border=\"1\" class=\"dataframe\">\n",
       "  <thead>\n",
       "    <tr style=\"text-align: right;\">\n",
       "      <th></th>\n",
       "      <th>id</th>\n",
       "      <th>diagnosis</th>\n",
       "      <th>radius_mean</th>\n",
       "      <th>texture_mean</th>\n",
       "      <th>perimeter_mean</th>\n",
       "      <th>area_mean</th>\n",
       "      <th>smoothness_mean</th>\n",
       "      <th>compactness_mean</th>\n",
       "      <th>concavity_mean</th>\n",
       "      <th>concave points_mean</th>\n",
       "      <th>...</th>\n",
       "      <th>texture_worst</th>\n",
       "      <th>perimeter_worst</th>\n",
       "      <th>area_worst</th>\n",
       "      <th>smoothness_worst</th>\n",
       "      <th>compactness_worst</th>\n",
       "      <th>concavity_worst</th>\n",
       "      <th>concave points_worst</th>\n",
       "      <th>symmetry_worst</th>\n",
       "      <th>fractal_dimension_worst</th>\n",
       "      <th>Unnamed: 32</th>\n",
       "    </tr>\n",
       "  </thead>\n",
       "  <tbody>\n",
       "    <tr>\n",
       "      <th>0</th>\n",
       "      <td>842302</td>\n",
       "      <td>M</td>\n",
       "      <td>17.99</td>\n",
       "      <td>10.38</td>\n",
       "      <td>122.80</td>\n",
       "      <td>1001.0</td>\n",
       "      <td>0.11840</td>\n",
       "      <td>0.27760</td>\n",
       "      <td>0.30010</td>\n",
       "      <td>0.14710</td>\n",
       "      <td>...</td>\n",
       "      <td>17.33</td>\n",
       "      <td>184.60</td>\n",
       "      <td>2019.0</td>\n",
       "      <td>0.16220</td>\n",
       "      <td>0.66560</td>\n",
       "      <td>0.7119</td>\n",
       "      <td>0.2654</td>\n",
       "      <td>0.4601</td>\n",
       "      <td>0.11890</td>\n",
       "      <td>NaN</td>\n",
       "    </tr>\n",
       "    <tr>\n",
       "      <th>1</th>\n",
       "      <td>842517</td>\n",
       "      <td>M</td>\n",
       "      <td>20.57</td>\n",
       "      <td>17.77</td>\n",
       "      <td>132.90</td>\n",
       "      <td>1326.0</td>\n",
       "      <td>0.08474</td>\n",
       "      <td>0.07864</td>\n",
       "      <td>0.08690</td>\n",
       "      <td>0.07017</td>\n",
       "      <td>...</td>\n",
       "      <td>23.41</td>\n",
       "      <td>158.80</td>\n",
       "      <td>1956.0</td>\n",
       "      <td>0.12380</td>\n",
       "      <td>0.18660</td>\n",
       "      <td>0.2416</td>\n",
       "      <td>0.1860</td>\n",
       "      <td>0.2750</td>\n",
       "      <td>0.08902</td>\n",
       "      <td>NaN</td>\n",
       "    </tr>\n",
       "    <tr>\n",
       "      <th>2</th>\n",
       "      <td>84300903</td>\n",
       "      <td>M</td>\n",
       "      <td>19.69</td>\n",
       "      <td>21.25</td>\n",
       "      <td>130.00</td>\n",
       "      <td>1203.0</td>\n",
       "      <td>0.10960</td>\n",
       "      <td>0.15990</td>\n",
       "      <td>0.19740</td>\n",
       "      <td>0.12790</td>\n",
       "      <td>...</td>\n",
       "      <td>25.53</td>\n",
       "      <td>152.50</td>\n",
       "      <td>1709.0</td>\n",
       "      <td>0.14440</td>\n",
       "      <td>0.42450</td>\n",
       "      <td>0.4504</td>\n",
       "      <td>0.2430</td>\n",
       "      <td>0.3613</td>\n",
       "      <td>0.08758</td>\n",
       "      <td>NaN</td>\n",
       "    </tr>\n",
       "    <tr>\n",
       "      <th>3</th>\n",
       "      <td>84348301</td>\n",
       "      <td>M</td>\n",
       "      <td>11.42</td>\n",
       "      <td>20.38</td>\n",
       "      <td>77.58</td>\n",
       "      <td>386.1</td>\n",
       "      <td>0.14250</td>\n",
       "      <td>0.28390</td>\n",
       "      <td>0.24140</td>\n",
       "      <td>0.10520</td>\n",
       "      <td>...</td>\n",
       "      <td>26.50</td>\n",
       "      <td>98.87</td>\n",
       "      <td>567.7</td>\n",
       "      <td>0.20980</td>\n",
       "      <td>0.86630</td>\n",
       "      <td>0.6869</td>\n",
       "      <td>0.2575</td>\n",
       "      <td>0.6638</td>\n",
       "      <td>0.17300</td>\n",
       "      <td>NaN</td>\n",
       "    </tr>\n",
       "    <tr>\n",
       "      <th>4</th>\n",
       "      <td>84358402</td>\n",
       "      <td>M</td>\n",
       "      <td>20.29</td>\n",
       "      <td>14.34</td>\n",
       "      <td>135.10</td>\n",
       "      <td>1297.0</td>\n",
       "      <td>0.10030</td>\n",
       "      <td>0.13280</td>\n",
       "      <td>0.19800</td>\n",
       "      <td>0.10430</td>\n",
       "      <td>...</td>\n",
       "      <td>16.67</td>\n",
       "      <td>152.20</td>\n",
       "      <td>1575.0</td>\n",
       "      <td>0.13740</td>\n",
       "      <td>0.20500</td>\n",
       "      <td>0.4000</td>\n",
       "      <td>0.1625</td>\n",
       "      <td>0.2364</td>\n",
       "      <td>0.07678</td>\n",
       "      <td>NaN</td>\n",
       "    </tr>\n",
       "    <tr>\n",
       "      <th>...</th>\n",
       "      <td>...</td>\n",
       "      <td>...</td>\n",
       "      <td>...</td>\n",
       "      <td>...</td>\n",
       "      <td>...</td>\n",
       "      <td>...</td>\n",
       "      <td>...</td>\n",
       "      <td>...</td>\n",
       "      <td>...</td>\n",
       "      <td>...</td>\n",
       "      <td>...</td>\n",
       "      <td>...</td>\n",
       "      <td>...</td>\n",
       "      <td>...</td>\n",
       "      <td>...</td>\n",
       "      <td>...</td>\n",
       "      <td>...</td>\n",
       "      <td>...</td>\n",
       "      <td>...</td>\n",
       "      <td>...</td>\n",
       "      <td>...</td>\n",
       "    </tr>\n",
       "    <tr>\n",
       "      <th>564</th>\n",
       "      <td>926424</td>\n",
       "      <td>M</td>\n",
       "      <td>21.56</td>\n",
       "      <td>22.39</td>\n",
       "      <td>142.00</td>\n",
       "      <td>1479.0</td>\n",
       "      <td>0.11100</td>\n",
       "      <td>0.11590</td>\n",
       "      <td>0.24390</td>\n",
       "      <td>0.13890</td>\n",
       "      <td>...</td>\n",
       "      <td>26.40</td>\n",
       "      <td>166.10</td>\n",
       "      <td>2027.0</td>\n",
       "      <td>0.14100</td>\n",
       "      <td>0.21130</td>\n",
       "      <td>0.4107</td>\n",
       "      <td>0.2216</td>\n",
       "      <td>0.2060</td>\n",
       "      <td>0.07115</td>\n",
       "      <td>NaN</td>\n",
       "    </tr>\n",
       "    <tr>\n",
       "      <th>565</th>\n",
       "      <td>926682</td>\n",
       "      <td>M</td>\n",
       "      <td>20.13</td>\n",
       "      <td>28.25</td>\n",
       "      <td>131.20</td>\n",
       "      <td>1261.0</td>\n",
       "      <td>0.09780</td>\n",
       "      <td>0.10340</td>\n",
       "      <td>0.14400</td>\n",
       "      <td>0.09791</td>\n",
       "      <td>...</td>\n",
       "      <td>38.25</td>\n",
       "      <td>155.00</td>\n",
       "      <td>1731.0</td>\n",
       "      <td>0.11660</td>\n",
       "      <td>0.19220</td>\n",
       "      <td>0.3215</td>\n",
       "      <td>0.1628</td>\n",
       "      <td>0.2572</td>\n",
       "      <td>0.06637</td>\n",
       "      <td>NaN</td>\n",
       "    </tr>\n",
       "    <tr>\n",
       "      <th>566</th>\n",
       "      <td>926954</td>\n",
       "      <td>M</td>\n",
       "      <td>16.60</td>\n",
       "      <td>28.08</td>\n",
       "      <td>108.30</td>\n",
       "      <td>858.1</td>\n",
       "      <td>0.08455</td>\n",
       "      <td>0.10230</td>\n",
       "      <td>0.09251</td>\n",
       "      <td>0.05302</td>\n",
       "      <td>...</td>\n",
       "      <td>34.12</td>\n",
       "      <td>126.70</td>\n",
       "      <td>1124.0</td>\n",
       "      <td>0.11390</td>\n",
       "      <td>0.30940</td>\n",
       "      <td>0.3403</td>\n",
       "      <td>0.1418</td>\n",
       "      <td>0.2218</td>\n",
       "      <td>0.07820</td>\n",
       "      <td>NaN</td>\n",
       "    </tr>\n",
       "    <tr>\n",
       "      <th>567</th>\n",
       "      <td>927241</td>\n",
       "      <td>M</td>\n",
       "      <td>20.60</td>\n",
       "      <td>29.33</td>\n",
       "      <td>140.10</td>\n",
       "      <td>1265.0</td>\n",
       "      <td>0.11780</td>\n",
       "      <td>0.27700</td>\n",
       "      <td>0.35140</td>\n",
       "      <td>0.15200</td>\n",
       "      <td>...</td>\n",
       "      <td>39.42</td>\n",
       "      <td>184.60</td>\n",
       "      <td>1821.0</td>\n",
       "      <td>0.16500</td>\n",
       "      <td>0.86810</td>\n",
       "      <td>0.9387</td>\n",
       "      <td>0.2650</td>\n",
       "      <td>0.4087</td>\n",
       "      <td>0.12400</td>\n",
       "      <td>NaN</td>\n",
       "    </tr>\n",
       "    <tr>\n",
       "      <th>568</th>\n",
       "      <td>92751</td>\n",
       "      <td>B</td>\n",
       "      <td>7.76</td>\n",
       "      <td>24.54</td>\n",
       "      <td>47.92</td>\n",
       "      <td>181.0</td>\n",
       "      <td>0.05263</td>\n",
       "      <td>0.04362</td>\n",
       "      <td>0.00000</td>\n",
       "      <td>0.00000</td>\n",
       "      <td>...</td>\n",
       "      <td>30.37</td>\n",
       "      <td>59.16</td>\n",
       "      <td>268.6</td>\n",
       "      <td>0.08996</td>\n",
       "      <td>0.06444</td>\n",
       "      <td>0.0000</td>\n",
       "      <td>0.0000</td>\n",
       "      <td>0.2871</td>\n",
       "      <td>0.07039</td>\n",
       "      <td>NaN</td>\n",
       "    </tr>\n",
       "  </tbody>\n",
       "</table>\n",
       "<p>569 rows × 33 columns</p>\n",
       "</div>"
      ],
      "text/plain": [
       "           id diagnosis  radius_mean  texture_mean  perimeter_mean  area_mean  \\\n",
       "0      842302         M        17.99         10.38          122.80     1001.0   \n",
       "1      842517         M        20.57         17.77          132.90     1326.0   \n",
       "2    84300903         M        19.69         21.25          130.00     1203.0   \n",
       "3    84348301         M        11.42         20.38           77.58      386.1   \n",
       "4    84358402         M        20.29         14.34          135.10     1297.0   \n",
       "..        ...       ...          ...           ...             ...        ...   \n",
       "564    926424         M        21.56         22.39          142.00     1479.0   \n",
       "565    926682         M        20.13         28.25          131.20     1261.0   \n",
       "566    926954         M        16.60         28.08          108.30      858.1   \n",
       "567    927241         M        20.60         29.33          140.10     1265.0   \n",
       "568     92751         B         7.76         24.54           47.92      181.0   \n",
       "\n",
       "     smoothness_mean  compactness_mean  concavity_mean  concave points_mean  \\\n",
       "0            0.11840           0.27760         0.30010              0.14710   \n",
       "1            0.08474           0.07864         0.08690              0.07017   \n",
       "2            0.10960           0.15990         0.19740              0.12790   \n",
       "3            0.14250           0.28390         0.24140              0.10520   \n",
       "4            0.10030           0.13280         0.19800              0.10430   \n",
       "..               ...               ...             ...                  ...   \n",
       "564          0.11100           0.11590         0.24390              0.13890   \n",
       "565          0.09780           0.10340         0.14400              0.09791   \n",
       "566          0.08455           0.10230         0.09251              0.05302   \n",
       "567          0.11780           0.27700         0.35140              0.15200   \n",
       "568          0.05263           0.04362         0.00000              0.00000   \n",
       "\n",
       "     ...  texture_worst  perimeter_worst  area_worst  smoothness_worst  \\\n",
       "0    ...          17.33           184.60      2019.0           0.16220   \n",
       "1    ...          23.41           158.80      1956.0           0.12380   \n",
       "2    ...          25.53           152.50      1709.0           0.14440   \n",
       "3    ...          26.50            98.87       567.7           0.20980   \n",
       "4    ...          16.67           152.20      1575.0           0.13740   \n",
       "..   ...            ...              ...         ...               ...   \n",
       "564  ...          26.40           166.10      2027.0           0.14100   \n",
       "565  ...          38.25           155.00      1731.0           0.11660   \n",
       "566  ...          34.12           126.70      1124.0           0.11390   \n",
       "567  ...          39.42           184.60      1821.0           0.16500   \n",
       "568  ...          30.37            59.16       268.6           0.08996   \n",
       "\n",
       "     compactness_worst  concavity_worst  concave points_worst  symmetry_worst  \\\n",
       "0              0.66560           0.7119                0.2654          0.4601   \n",
       "1              0.18660           0.2416                0.1860          0.2750   \n",
       "2              0.42450           0.4504                0.2430          0.3613   \n",
       "3              0.86630           0.6869                0.2575          0.6638   \n",
       "4              0.20500           0.4000                0.1625          0.2364   \n",
       "..                 ...              ...                   ...             ...   \n",
       "564            0.21130           0.4107                0.2216          0.2060   \n",
       "565            0.19220           0.3215                0.1628          0.2572   \n",
       "566            0.30940           0.3403                0.1418          0.2218   \n",
       "567            0.86810           0.9387                0.2650          0.4087   \n",
       "568            0.06444           0.0000                0.0000          0.2871   \n",
       "\n",
       "     fractal_dimension_worst  Unnamed: 32  \n",
       "0                    0.11890          NaN  \n",
       "1                    0.08902          NaN  \n",
       "2                    0.08758          NaN  \n",
       "3                    0.17300          NaN  \n",
       "4                    0.07678          NaN  \n",
       "..                       ...          ...  \n",
       "564                  0.07115          NaN  \n",
       "565                  0.06637          NaN  \n",
       "566                  0.07820          NaN  \n",
       "567                  0.12400          NaN  \n",
       "568                  0.07039          NaN  \n",
       "\n",
       "[569 rows x 33 columns]"
      ]
     },
     "execution_count": 5,
     "metadata": {},
     "output_type": "execute_result"
    }
   ],
   "source": [
    "breast_cancer"
   ]
  },
  {
   "cell_type": "code",
   "execution_count": 4,
   "id": "28fe4a58-79cd-4ed5-b79d-921afd1bcbf2",
   "metadata": {},
   "outputs": [
    {
     "data": {
      "text/plain": [
       "Index(['id', 'diagnosis', 'radius_mean', 'texture_mean', 'perimeter_mean',\n",
       "       'area_mean', 'smoothness_mean', 'compactness_mean', 'concavity_mean',\n",
       "       'concave points_mean', 'symmetry_mean', 'fractal_dimension_mean',\n",
       "       'radius_se', 'texture_se', 'perimeter_se', 'area_se', 'smoothness_se',\n",
       "       'compactness_se', 'concavity_se', 'concave points_se', 'symmetry_se',\n",
       "       'fractal_dimension_se', 'radius_worst', 'texture_worst',\n",
       "       'perimeter_worst', 'area_worst', 'smoothness_worst',\n",
       "       'compactness_worst', 'concavity_worst', 'concave points_worst',\n",
       "       'symmetry_worst', 'fractal_dimension_worst', 'Unnamed: 32'],\n",
       "      dtype='object')"
      ]
     },
     "execution_count": 4,
     "metadata": {},
     "output_type": "execute_result"
    }
   ],
   "source": [
    "breast_cancer.columns"
   ]
  },
  {
   "cell_type": "code",
   "execution_count": 5,
   "id": "4c0b91a3-f504-4576-957e-7fc37effea05",
   "metadata": {},
   "outputs": [
    {
     "data": {
      "text/plain": [
       "id                           0\n",
       "diagnosis                    0\n",
       "radius_mean                  0\n",
       "texture_mean                 0\n",
       "perimeter_mean               0\n",
       "area_mean                    0\n",
       "smoothness_mean              0\n",
       "compactness_mean             0\n",
       "concavity_mean               0\n",
       "concave points_mean          0\n",
       "symmetry_mean                0\n",
       "fractal_dimension_mean       0\n",
       "radius_se                    0\n",
       "texture_se                   0\n",
       "perimeter_se                 0\n",
       "area_se                      0\n",
       "smoothness_se                0\n",
       "compactness_se               0\n",
       "concavity_se                 0\n",
       "concave points_se            0\n",
       "symmetry_se                  0\n",
       "fractal_dimension_se         0\n",
       "radius_worst                 0\n",
       "texture_worst                0\n",
       "perimeter_worst              0\n",
       "area_worst                   0\n",
       "smoothness_worst             0\n",
       "compactness_worst            0\n",
       "concavity_worst              0\n",
       "concave points_worst         0\n",
       "symmetry_worst               0\n",
       "fractal_dimension_worst      0\n",
       "Unnamed: 32                569\n",
       "dtype: int64"
      ]
     },
     "execution_count": 5,
     "metadata": {},
     "output_type": "execute_result"
    }
   ],
   "source": [
    "breast_cancer.isnull().sum()"
   ]
  },
  {
   "cell_type": "code",
   "execution_count": null,
   "id": "6c681fd6-84be-4757-b8d4-58332cb8b4ca",
   "metadata": {},
   "outputs": [],
   "source": []
  },
  {
   "cell_type": "markdown",
   "id": "e933e7dd-df61-4e3b-8994-4084df56ad9e",
   "metadata": {},
   "source": [
    "*There is no need of features id, Unnamed: 32. so let's drop them*"
   ]
  },
  {
   "cell_type": "code",
   "execution_count": 23,
   "id": "53f5de7b-d6b2-4f9f-a062-be6f1a6da924",
   "metadata": {},
   "outputs": [
    {
     "data": {
      "text/plain": [
       "1"
      ]
     },
     "execution_count": 23,
     "metadata": {},
     "output_type": "execute_result"
    }
   ],
   "source": [
    "breast_cancer['Unnamed: 32'].unique().size"
   ]
  },
  {
   "cell_type": "code",
   "execution_count": 24,
   "id": "d23364d8-17a0-48df-a341-41ee95be8ee3",
   "metadata": {},
   "outputs": [
    {
     "data": {
      "text/plain": [
       "569"
      ]
     },
     "execution_count": 24,
     "metadata": {},
     "output_type": "execute_result"
    }
   ],
   "source": [
    "breast_cancer['id'].unique().size"
   ]
  },
  {
   "cell_type": "code",
   "execution_count": 6,
   "id": "3dcb66f6-1bd9-4990-809f-a902e15a968f",
   "metadata": {},
   "outputs": [],
   "source": [
    "breast_cancer.drop(['id', 'Unnamed: 32'], axis = 1, inplace = True)"
   ]
  },
  {
   "cell_type": "code",
   "execution_count": 7,
   "id": "bdfab88f-ff69-4063-88f0-505b07ad1084",
   "metadata": {},
   "outputs": [
    {
     "data": {
      "text/plain": [
       "diagnosis\n",
       "B    357\n",
       "M    212\n",
       "Name: count, dtype: int64"
      ]
     },
     "execution_count": 7,
     "metadata": {},
     "output_type": "execute_result"
    }
   ],
   "source": [
    "breast_cancer.diagnosis.value_counts()"
   ]
  },
  {
   "cell_type": "markdown",
   "id": "6c0f1d53-592d-45da-8582-a35074ddea70",
   "metadata": {},
   "source": [
    "_Plot comparision chart for diagnosis feature_"
   ]
  },
  {
   "cell_type": "code",
   "execution_count": null,
   "id": "b85ec064-e7ae-4797-afb5-e18b04a83803",
   "metadata": {},
   "outputs": [],
   "source": []
  },
  {
   "cell_type": "code",
   "execution_count": 7,
   "id": "3241fd9f-9046-46d2-9f7c-b6ab7651317a",
   "metadata": {},
   "outputs": [],
   "source": [
    "breast_cancer.diagnosis.replace({'M':0, 'B': 1}, inplace=True)"
   ]
  },
  {
   "cell_type": "code",
   "execution_count": 85,
   "id": "95d71cf7-b0dd-4de6-a5a0-f3ac56ba8996",
   "metadata": {},
   "outputs": [
    {
     "data": {
      "text/plain": [
       "Index(['diagnosis', 'radius_mean', 'texture_mean', 'perimeter_mean',\n",
       "       'area_mean', 'smoothness_mean', 'compactness_mean', 'concavity_mean',\n",
       "       'concave points_mean', 'symmetry_mean', 'fractal_dimension_mean',\n",
       "       'radius_se', 'texture_se', 'perimeter_se', 'area_se', 'smoothness_se',\n",
       "       'compactness_se', 'concavity_se', 'concave points_se', 'symmetry_se',\n",
       "       'fractal_dimension_se', 'radius_worst', 'texture_worst',\n",
       "       'perimeter_worst', 'area_worst', 'smoothness_worst',\n",
       "       'compactness_worst', 'concavity_worst', 'concave points_worst',\n",
       "       'symmetry_worst', 'fractal_dimension_worst'],\n",
       "      dtype='object')"
      ]
     },
     "execution_count": 85,
     "metadata": {},
     "output_type": "execute_result"
    }
   ],
   "source": [
    "breast_cancer.columns"
   ]
  },
  {
   "cell_type": "code",
   "execution_count": 88,
   "id": "bba20feb-dfec-4053-ab59-6ee76996662d",
   "metadata": {},
   "outputs": [
    {
     "data": {
      "image/png": "[encoded data removed]",
      "text/plain": [
       "<Figure size 640x480 with 1 Axes>"
      ]
     },
     "metadata": {},
     "output_type": "display_data"
    }
   ],
   "source": [
    "sns.boxplot(data = breast_cancer, y = 'area_mean')\n",
    "plt.show()"
   ]
  },
  {
   "cell_type": "code",
   "execution_count": 89,
   "id": "b7e717f4-eb1e-4201-9e86-30e981fccad7",
   "metadata": {},
   "outputs": [],
   "source": [
    "Q1 = breast_cancer.quantile(0.25)\n",
    "Q3 = breast_cancer.quantile(0.75)\n",
    "IQR = Q3 - Q1"
   ]
  },
  {
   "cell_type": "code",
   "execution_count": 90,
   "id": "73529d5c-e8ea-417b-8fce-0734dd8f9e37",
   "metadata": {},
   "outputs": [
    {
     "data": {
      "text/plain": [
       "diagnosis                   0\n",
       "radius_mean                14\n",
       "texture_mean                7\n",
       "perimeter_mean             13\n",
       "area_mean                  25\n",
       "smoothness_mean             6\n",
       "compactness_mean           16\n",
       "concavity_mean             18\n",
       "concave points_mean        10\n",
       "symmetry_mean              15\n",
       "fractal_dimension_mean     15\n",
       "radius_se                  38\n",
       "texture_se                 20\n",
       "perimeter_se               38\n",
       "area_se                    65\n",
       "smoothness_se              30\n",
       "compactness_se             28\n",
       "concavity_se               22\n",
       "concave points_se          19\n",
       "symmetry_se                27\n",
       "fractal_dimension_se       28\n",
       "radius_worst               17\n",
       "texture_worst               5\n",
       "perimeter_worst            15\n",
       "area_worst                 35\n",
       "smoothness_worst            7\n",
       "compactness_worst          16\n",
       "concavity_worst            12\n",
       "concave points_worst        0\n",
       "symmetry_worst             23\n",
       "fractal_dimension_worst    24\n",
       "dtype: int64"
      ]
     },
     "execution_count": 90,
     "metadata": {},
     "output_type": "execute_result"
    }
   ],
   "source": [
    "((breast_cancer < (Q1 - 1.5 * IQR)) | (breast_cancer > (Q3 + 1.5 * IQR))).sum()"
   ]
  },
  {
   "cell_type": "markdown",
   "id": "6f78ece9-c7ea-43a8-81c5-91b9055702b1",
   "metadata": {},
   "source": [
    "### Standardizing, Splitting Features"
   ]
  },
  {
   "cell_type": "code",
   "execution_count": 14,
   "id": "33706378-ef3c-40ec-b56c-bc2107e58e9e",
   "metadata": {},
   "outputs": [],
   "source": [
    "y = breast_cancer.diagnosis.to_numpy()"
   ]
  },
  {
   "cell_type": "code",
   "execution_count": 15,
   "id": "93501a04-6151-4bc5-9466-196ebc3f7fa7",
   "metadata": {},
   "outputs": [],
   "source": [
    "# Standardizing features\n",
    "def standard_scalar(i):\n",
    "    return (i - i.mean()) / i.std()\n",
    "\n",
    "std_sclr = breast_cancer.apply(standard_scalar)\n",
    "x = std_sclr"
   ]
  },
  {
   "cell_type": "code",
   "execution_count": 16,
   "id": "d946d50b-d050-49a1-923a-4bdae6f10396",
   "metadata": {},
   "outputs": [],
   "source": [
    "x.drop(['diagnosis'], axis = 1, inplace = True)\n",
    "x = x.to_numpy()"
   ]
  },
  {
   "cell_type": "code",
   "execution_count": null,
   "id": "a9cb2068-6725-4c48-8228-e5d2ea42270b",
   "metadata": {},
   "outputs": [],
   "source": []
  },
  {
   "cell_type": "code",
   "execution_count": 17,
   "id": "445697b1-0e71-45b9-a82b-07b6d195e5a4",
   "metadata": {},
   "outputs": [],
   "source": [
    "from sklearn.model_selection import train_test_split\n",
    "x_train, x_test, y_train, y_test = train_test_split(x, y, train_size=0.80, random_state=1)"
   ]
  },
  {
   "cell_type": "code",
   "execution_count": 18,
   "id": "56d0011a-25e5-422c-b70f-414bbcd25d43",
   "metadata": {},
   "outputs": [
    {
     "name": "stdout",
     "output_type": "stream",
     "text": [
      "<class 'numpy.ndarray'>\n"
     ]
    }
   ],
   "source": [
    "print(type(x_test))"
   ]
  },
  {
   "cell_type": "code",
   "execution_count": 19,
   "id": "5055bce2-4fcb-4fca-8cde-f435b5344a61",
   "metadata": {},
   "outputs": [
    {
     "data": {
      "text/plain": [
       "array([[ 1.09609953,  0.31860965,  1.06304732, ...,  1.25955923,\n",
       "         0.25739584,  0.06002806],\n",
       "       [ 1.74875791, -1.15080385,  1.77501133, ...,  0.72861815,\n",
       "        -0.8675896 , -0.39675052],\n",
       "       [-1.45494345, -1.13685372, -1.46545377, ..., -1.53221719,\n",
       "         0.14586711, -0.32698797],\n",
       "       ...,\n",
       "       [ 0.87192556,  1.21606789,  0.91489296, ...,  1.14546014,\n",
       "         0.66633451,  2.76581825],\n",
       "       [-0.02760794,  0.45578591, -0.08967592, ..., -0.53210068,\n",
       "        -1.09064705, -0.43052445],\n",
       "       [-0.31137246, -0.20219513, -0.38516156, ..., -0.98089041,\n",
       "        -1.47695671, -1.23224006]])"
      ]
     },
     "execution_count": 19,
     "metadata": {},
     "output_type": "execute_result"
    }
   ],
   "source": [
    "x_train"
   ]
  },
  {
   "cell_type": "code",
   "execution_count": null,
   "id": "d312d60e-d4bb-48ab-a447-cac8d7c91f0e",
   "metadata": {},
   "outputs": [],
   "source": [
    "# Changing type of Dataset to "
   ]
  },
  {
   "cell_type": "code",
   "execution_count": null,
   "id": "dae7d594-575a-402c-b8bd-538c14f73232",
   "metadata": {},
   "outputs": [],
   "source": []
  },
  {
   "cell_type": "markdown",
   "id": "297c1b25-e04b-4a40-9c0c-d9fd27854dc6",
   "metadata": {},
   "source": [
    "### Model Training"
   ]
  },
  {
   "cell_type": "markdown",
   "id": "7653e30b-d5a1-49b0-b9ca-e71bccd00499",
   "metadata": {},
   "source": [
    "*Traget Feature consits of two entries only by we can conclude that it is Binary Classificatin Problem*\n",
    "- Here i am using Logistic Regression Algorithm to build Model"
   ]
  },
  {
   "cell_type": "code",
   "execution_count": 20,
   "id": "30033529-b5d4-484c-8a63-99ad3cc0cdb6",
   "metadata": {},
   "outputs": [],
   "source": [
    "# Sigmoid function\n",
    "def sigmoid(z):\n",
    "    return 1 / (1 + np.exp(-z))"
   ]
  },
  {
   "cell_type": "code",
   "execution_count": 21,
   "id": "680d4692-e420-4085-a9c5-31a2663afe2c",
   "metadata": {},
   "outputs": [
    {
     "ename": "SyntaxError",
     "evalue": "invalid syntax (1836660843.py, line 2)",
     "output_type": "error",
     "traceback": [
      "\u001b[1;36m  Cell \u001b[1;32mIn[21], line 2\u001b[1;36m\u001b[0m\n\u001b[1;33m    def\u001b[0m\n\u001b[1;37m       ^\u001b[0m\n\u001b[1;31mSyntaxError\u001b[0m\u001b[1;31m:\u001b[0m invalid syntax\n"
     ]
    }
   ],
   "source": [
    "# Prediction function\n",
    "def"
   ]
  },
  {
   "cell_type": "code",
   "execution_count": 21,
   "id": "2fe5c855-5dcb-4774-82a5-26c7d862b314",
   "metadata": {},
   "outputs": [],
   "source": [
    "# Cost function\n",
    "def regularized_logistic_cost_function(x, y, w, b, lamb):\n",
    "    m, n = x.shape\n",
    "    cost = 0.\n",
    "    for i in range(m):\n",
    "        fwb_i = sigmoid(np.dot(w, x[i]) + b)\n",
    "        cost += -y[i] * np.log(fwb_i) - (1 - y[i]) * np.log(1 - fwb_i)\n",
    "    cost /= m\n",
    "    \n",
    "    regularized_cost =0.\n",
    "    for j in range(n):\n",
    "        regularized_cost += (w[j]) ** 2\n",
    "    regularized_cost *= (lamb / 2 * m)\n",
    "    \n",
    "    return cost + regularized_cost"
   ]
  },
  {
   "cell_type": "code",
   "execution_count": 22,
   "id": "d238177b-d9d2-423b-9ef7-58a05e3bc609",
   "metadata": {},
   "outputs": [],
   "source": [
    "# Gradient function\n",
    "def gradient(x, y, w, b, lamb):\n",
    "    m, n = x.shape\n",
    "    dj_dw = np.zeros(n)\n",
    "    dj_db = 0.\n",
    "    for i in range(m):\n",
    "        fwb_i = sigmoid(np.dot(w, x[i]) + b)\n",
    "        err = fwb_i - y[i]\n",
    "        for j in range(n):\n",
    "            dj_dw[j] += err * x[i, j]\n",
    "        dj_db += err\n",
    "    dj_dw /= m\n",
    "    dj_db /= m\n",
    "\n",
    "    return dj_dw, dj_db"
   ]
  },
  {
   "cell_type": "code",
   "execution_count": 25,
   "id": "74bc0132-ccd3-4d56-b3ae-2d3086d098cf",
   "metadata": {},
   "outputs": [],
   "source": [
    "# Gradient descent\n",
    "def gradient_descent(x, y, w, b, no_iter, lamb, learning_rate):\n",
    "    divi = no_iter / 10\n",
    "    cost_history = []\n",
    "    min_cost = regularized_logistic_cost_function(x, y, w, b, lamb)\n",
    "    for i in range(1, no_iter + 1):\n",
    "        dj_dw, dj_db = gradient(x, y, w, b, lamb)\n",
    "        w = w - learning_rate * dj_dw\n",
    "        b = b - learning_rate * dj_db\n",
    "        cost = regularized_logistic_cost_function(x, y, w, b, lamb)\n",
    "        \n",
    "        if (i % divi) == 0:\n",
    "            cost_history.append(cost)\n",
    "            print(f'Iteration {i} Cost is {cost}')\n",
    "    return w, b, cost_history"
   ]
  },
  {
   "cell_type": "code",
   "execution_count": 26,
   "id": "d88f4329-00e1-4bee-affb-885af487ebd2",
   "metadata": {},
   "outputs": [
    {
     "name": "stdout",
     "output_type": "stream",
     "text": [
      "Iteration 100 Cost is 8.446025365416627\n",
      "Iteration 200 Cost is 15.910496603118371\n",
      "Iteration 300 Cost is 22.240970456218406\n",
      "Iteration 400 Cost is 27.83399106288572\n",
      "Iteration 500 Cost is 32.90034094248012\n",
      "Iteration 600 Cost is 37.5666665880497\n",
      "Iteration 700 Cost is 41.91654885558359\n",
      "Iteration 800 Cost is 46.008512703868604\n",
      "Iteration 900 Cost is 49.88528299275122\n",
      "Iteration 1000 Cost is 53.579071542979925\n"
     ]
    }
   ],
   "source": [
    "w_ini = np.zeros(x_train.shape[1])\n",
    "b_ini = 0.\n",
    "alpha = 0.01\n",
    "lamb = 0.1\n",
    "iter = 1000\n",
    "w_final, b_final, cost_history = gradient_descent(x_train, y_train, w_ini, b_ini, iter, lamb, alpha)"
   ]
  },
  {
   "cell_type": "code",
   "execution_count": 28,
   "id": "e4522a3b-4bea-4a00-a16d-c1d4fe8e33a7",
   "metadata": {},
   "outputs": [
    {
     "name": "stdout",
     "output_type": "stream",
     "text": [
      "Final parameters :\n",
      "w is [-0.37620764 -0.31556292 -0.37374851 -0.37307367 -0.12856938 -0.15202493\n",
      " -0.30269871 -0.37656246 -0.08442914  0.14445972 -0.31092475  0.00668073\n",
      " -0.27510766 -0.29900517 -0.00508122  0.07747027  0.04601702 -0.05865677\n",
      "  0.04657234  0.18483037 -0.45371333 -0.39081432 -0.43800536 -0.4311997\n",
      " -0.29319572 -0.21598436 -0.30756572 -0.40954169 -0.27736121 -0.10816919]\n",
      "b is 0.35946960518046694\n"
     ]
    }
   ],
   "source": [
    "# b_ini = 0.\n",
    "# alpha = 0.01\n",
    "# lamb = 0.1\n",
    "# iter = 1000\n",
    "print(f'Final parameters :\\nw is {w_final}\\nb is {b_final}')"
   ]
  },
  {
   "cell_type": "code",
   "execution_count": 61,
   "id": "73177c98-0e14-42dc-9d44-7582261e02ad",
   "metadata": {},
   "outputs": [
    {
     "name": "stdout",
     "output_type": "stream",
     "text": [
      "Final parameters :\n",
      "w is [-0.31182098 -0.26285432 -0.31310801 -0.30896891 -0.09197037 -0.13158763\n",
      " -0.28456138 -0.34644043 -0.04795695  0.18013708 -0.26506116  0.05790075\n",
      " -0.22882135 -0.24095696  0.03104742  0.0915451   0.06316179 -0.04696358\n",
      "  0.08961096  0.19792946 -0.39354994 -0.33707732 -0.38084923 -0.36973528\n",
      " -0.25112148 -0.18474912 -0.27934569 -0.37717926 -0.22932227 -0.07712048]\n",
      "b is 0.3910154295463259\n"
     ]
    }
   ],
   "source": [
    "# b_ini = 0.01\n",
    "# alpha = 0.01\n",
    "# lamb = 0.1\n",
    "# iter = 1000\n",
    "print(f'Final parameters :\\nw is {w_final}\\nb is {b_final}')"
   ]
  },
  {
   "cell_type": "code",
   "execution_count": 71,
   "id": "636a51b4-185d-4a8b-8190-d77fd296f3f0",
   "metadata": {},
   "outputs": [
    {
     "name": "stdout",
     "output_type": "stream",
     "text": [
      "Final parameters :\n",
      "w is [-0.45529245 -0.49174443 -0.45252011 -0.47260484 -0.14221797  0.03144739\n",
      " -0.62309328 -0.67672729  0.03575883  0.39674987 -0.67339663  0.11692235\n",
      " -0.47949415 -0.53257077 -0.1556086   0.52498474  0.04675511 -0.17770467\n",
      "  0.14654122  0.51318846 -0.80861309 -0.81823814 -0.74093575 -0.75788657\n",
      " -0.62106819 -0.13584821 -0.64704785 -0.79573903 -0.61485727 -0.18377266]\n",
      "b is 0.6101809400829501\n"
     ]
    }
   ],
   "source": [
    "# b_ini = 0.1\n",
    "# alpha = 0.01\n",
    "# lamb = 0.1\n",
    "# iter = 10000\n",
    "print(f'Final parameters :\\nw is {w_final}\\nb is {b_final}')"
   ]
  },
  {
   "cell_type": "code",
   "execution_count": 77,
   "id": "f5e0d58a-342e-4efa-b3b5-388e94d7d45f",
   "metadata": {},
   "outputs": [
    {
     "name": "stdout",
     "output_type": "stream",
     "text": [
      "Final parameters :\n",
      "w is [ 0.55531422 -0.08184655  0.28180501  0.5948571   0.17608372 -0.88036783\n",
      " -1.52703498 -1.34915204  0.27490442  1.77256236 -0.70180519  0.55577679\n",
      " -0.50577278  0.47178096  0.60906081 -0.25514482  1.04568636 -0.49481176\n",
      "  0.42514359  0.55549132 -0.11535583 -0.60247919 -0.15742212  0.23941608\n",
      " -0.15700208  0.13309061 -0.27368451 -0.69883329 -0.11343365  0.024275  ]\n",
      "b is 1.2359578031774339\n"
     ]
    }
   ],
   "source": [
    "# b_ini = 0.1\n",
    "# alpha = 0.01\n",
    "# lamb = 100\n",
    "# iter = 10000\n",
    "print(f'Final parameters :\\nw is {w_final}\\nb is {b_final}')"
   ]
  },
  {
   "cell_type": "code",
   "execution_count": 79,
   "id": "67a165c8-7d2e-47fd-a30c-0a51606f8545",
   "metadata": {},
   "outputs": [
    {
     "name": "stdout",
     "output_type": "stream",
     "text": [
      "Final parameters :\n",
      "w is [ 0.55531422 -0.08184655  0.28180501  0.5948571   0.17608372 -0.88036783\n",
      " -1.52703498 -1.34915204  0.27490442  1.77256236 -0.70180519  0.55577679\n",
      " -0.50577278  0.47178096  0.60906081 -0.25514482  1.04568636 -0.49481176\n",
      "  0.42514359  0.55549132 -0.11535583 -0.60247919 -0.15742212  0.23941608\n",
      " -0.15700208  0.13309061 -0.27368451 -0.69883329 -0.11343365  0.024275  ]\n",
      "b is 1.2359578031774339\n"
     ]
    }
   ],
   "source": [
    "b_ini = 0.1\n",
    "alpha = 0.01\n",
    "lamb = 2\n",
    "iter = 10000\n",
    "print(f'Final parameters :\\nw is {w_final}\\nb is {b_final}')"
   ]
  },
  {
   "cell_type": "code",
   "execution_count": null,
   "id": "e2a52b63-5d24-486b-a99c-e440ec3c9ff5",
   "metadata": {},
   "outputs": [],
   "source": []
  }
 ],
 "metadata": {
  "kernelspec": {
   "display_name": "Python 3 (ipykernel)",
   "language": "python",
   "name": "python3"
  },
  "language_info": {
   "codemirror_mode": {
    "name": "ipython",
    "version": 3
   },
   "file_extension": ".py",
   "mimetype": "text/x-python",
   "name": "python",
   "nbconvert_exporter": "python",
   "pygments_lexer": "ipython3",
   "version": "3.11.7"
  }
 },
 "nbformat": 4,
 "nbformat_minor": 5
}
