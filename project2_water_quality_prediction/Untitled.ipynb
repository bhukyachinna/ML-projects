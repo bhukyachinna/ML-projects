{
 "cells": [
  {
   "cell_type": "code",
   "execution_count": 1,
   "id": "70735c9b-e6f8-4b47-b71e-d09cd228e66e",
   "metadata": {},
   "outputs": [],
   "source": [
    "import pandas as pd\n",
    "import seaborn as sns\n",
    "import matplotlib.pyplot as plt"
   ]
  },
  {
   "cell_type": "code",
   "execution_count": 3,
   "id": "eabdac28-db42-4b84-815f-9bacd510a675",
   "metadata": {},
   "outputs": [],
   "source": [
    "# Load the dataset\n",
    "data = pd.read_csv('water_potability.csv')"
   ]
  },
  {
   "cell_type": "code",
   "execution_count": 5,
   "id": "42b90017-8639-4c09-b219-1c581f557183",
   "metadata": {},
   "outputs": [],
   "source": [
    "grp = data.groupby('Potability')['ph']"
   ]
  },
  {
   "cell_type": "code",
   "execution_count": 10,
   "id": "4340d2ed-7a08-40a3-ad11-f2fc20117c6c",
   "metadata": {},
   "outputs": [
    {
     "data": {
      "text/plain": [
       "<pandas.core.groupby.generic.SeriesGroupBy object at 0x000001F16F15F2D0>"
      ]
     },
     "execution_count": 10,
     "metadata": {},
     "output_type": "execute_result"
    }
   ],
   "source": [
    "grp"
   ]
  },
  {
   "cell_type": "code",
   "execution_count": null,
   "id": "fabdb9e8-c7f0-45cb-901e-1f6356972be0",
   "metadata": {},
   "outputs": [],
   "source": [
    "\n",
    "\n",
    "# Count the number of null values for potable and non-potable water\n",
    "null_counts = data.isnull().groupby(data['Potability']).sum().reset_index()\n",
    "\n",
    "# Melt the DataFrame to long format for easier plotting\n",
    "null_counts_melted = null_counts.melt(id_vars='Potability', var_name='Feature', value_name='Null Count')\n",
    "\n",
    "# Plot the null values\n",
    "plt.figure(figsize=(12, 6))\n",
    "sns.barplot(x='Feature', y='Null Count', hue='Potability', data=null_counts_melted)\n",
    "plt.title('Null Values by Water Potability')\n",
    "plt.xticks(rotation=45)\n",
    "plt.show()\n"
   ]
  },
  {
   "cell_type": "code",
   "execution_count": null,
   "id": "4863ead2-9d38-4e64-aee8-183024bffdc5",
   "metadata": {},
   "outputs": [],
   "source": []
  }
 ],
 "metadata": {
  "kernelspec": {
   "display_name": "Python 3 (ipykernel)",
   "language": "python",
   "name": "python3"
  },
  "language_info": {
   "codemirror_mode": {
    "name": "ipython",
    "version": 3
   },
   "file_extension": ".py",
   "mimetype": "text/x-python",
   "name": "python",
   "nbconvert_exporter": "python",
   "pygments_lexer": "ipython3",
   "version": "3.11.7"
  }
 },
 "nbformat": 4,
 "nbformat_minor": 5
}
