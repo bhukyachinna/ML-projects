{
 "cells": [
  {
   "cell_type": "markdown",
   "id": "8e67216c-50b6-4746-8af6-4efd4621ee39",
   "metadata": {},
   "source": [
    "### Model Building without preprocessing"
   ]
  },
  {
   "cell_type": "code",
   "execution_count": 1,
   "id": "784f51b2-33dd-44de-8809-f22e32f8f2cb",
   "metadata": {},
   "outputs": [],
   "source": [
    "import pandas as pd\n",
    "import numpy as np"
   ]
  },
  {
   "cell_type": "code",
   "execution_count": 84,
   "id": "f9b2cc78-a79b-4ac8-b489-9460e7dab094",
   "metadata": {},
   "outputs": [],
   "source": [
    "# preprocessing\n",
    "from sklearn.model_selection import train_test_split\n",
    "\n",
    "# Models\n",
    "from sklearn.linear_model import LogisticRegression\n",
    "from sklearn.linear_model import LogisticRegressionCV\n",
    "from sklearn.linear_model import RidgeClassifier\n",
    "from sklearn.linear_model import RidgeClassifierCV\n",
    "from sklearn.linear_model import SGDClassifier\n",
    "from sklearn.tree import DecisionTreeClassifier\n",
    "from sklearn.ensemble import RandomForestClassifier\n",
    "from sklearn.svm import SVC\n",
    "\n",
    "# Performance evaluation\n",
    "from sklearn.metrics import accuracy_score, precision_score, f1_score, confusion_matrix, recall_score"
   ]
  },
  {
   "cell_type": "code",
   "execution_count": null,
   "id": "2565fda5-8117-4c0f-b30d-c8b084ba3551",
   "metadata": {},
   "outputs": [],
   "source": []
  },
  {
   "cell_type": "code",
   "execution_count": 2,
   "id": "548f7c7c-70cd-4d90-a4cf-1613602ee6e2",
   "metadata": {},
   "outputs": [],
   "source": [
    "data = pd.read_csv('./Healthcare-Diabetes.csv')"
   ]
  },
  {
   "cell_type": "code",
   "execution_count": 8,
   "id": "9d6e3a06-1fb0-4c9d-acc3-cd095dd64541",
   "metadata": {},
   "outputs": [
    {
     "data": {
      "text/html": [
       "<div>\n",
       "<style scoped>\n",
       "    .dataframe tbody tr th:only-of-type {\n",
       "        vertical-align: middle;\n",
       "    }\n",
       "\n",
       "    .dataframe tbody tr th {\n",
       "        vertical-align: top;\n",
       "    }\n",
       "\n",
       "    .dataframe thead th {\n",
       "        text-align: right;\n",
       "    }\n",
       "</style>\n",
       "<table border=\"1\" class=\"dataframe\">\n",
       "  <thead>\n",
       "    <tr style=\"text-align: right;\">\n",
       "      <th></th>\n",
       "      <th>Id</th>\n",
       "      <th>Pregnancies</th>\n",
       "      <th>Glucose</th>\n",
       "      <th>BloodPressure</th>\n",
       "      <th>SkinThickness</th>\n",
       "      <th>Insulin</th>\n",
       "      <th>BMI</th>\n",
       "      <th>DiabetesPedigreeFunction</th>\n",
       "      <th>Age</th>\n",
       "      <th>Outcome</th>\n",
       "    </tr>\n",
       "  </thead>\n",
       "  <tbody>\n",
       "    <tr>\n",
       "      <th>1091</th>\n",
       "      <td>1092</td>\n",
       "      <td>13</td>\n",
       "      <td>152</td>\n",
       "      <td>90</td>\n",
       "      <td>33</td>\n",
       "      <td>29</td>\n",
       "      <td>26.8</td>\n",
       "      <td>0.731</td>\n",
       "      <td>43</td>\n",
       "      <td>1</td>\n",
       "    </tr>\n",
       "    <tr>\n",
       "      <th>1701</th>\n",
       "      <td>1702</td>\n",
       "      <td>5</td>\n",
       "      <td>88</td>\n",
       "      <td>78</td>\n",
       "      <td>30</td>\n",
       "      <td>0</td>\n",
       "      <td>27.6</td>\n",
       "      <td>0.258</td>\n",
       "      <td>37</td>\n",
       "      <td>0</td>\n",
       "    </tr>\n",
       "    <tr>\n",
       "      <th>462</th>\n",
       "      <td>463</td>\n",
       "      <td>8</td>\n",
       "      <td>74</td>\n",
       "      <td>70</td>\n",
       "      <td>40</td>\n",
       "      <td>49</td>\n",
       "      <td>35.3</td>\n",
       "      <td>0.705</td>\n",
       "      <td>39</td>\n",
       "      <td>0</td>\n",
       "    </tr>\n",
       "    <tr>\n",
       "      <th>483</th>\n",
       "      <td>484</td>\n",
       "      <td>0</td>\n",
       "      <td>84</td>\n",
       "      <td>82</td>\n",
       "      <td>31</td>\n",
       "      <td>125</td>\n",
       "      <td>38.2</td>\n",
       "      <td>0.233</td>\n",
       "      <td>23</td>\n",
       "      <td>0</td>\n",
       "    </tr>\n",
       "    <tr>\n",
       "      <th>2388</th>\n",
       "      <td>2389</td>\n",
       "      <td>0</td>\n",
       "      <td>101</td>\n",
       "      <td>64</td>\n",
       "      <td>17</td>\n",
       "      <td>0</td>\n",
       "      <td>21.0</td>\n",
       "      <td>0.252</td>\n",
       "      <td>21</td>\n",
       "      <td>0</td>\n",
       "    </tr>\n",
       "  </tbody>\n",
       "</table>\n",
       "</div>"
      ],
      "text/plain": [
       "        Id  Pregnancies  Glucose  BloodPressure  SkinThickness  Insulin   BMI  \\\n",
       "1091  1092           13      152             90             33       29  26.8   \n",
       "1701  1702            5       88             78             30        0  27.6   \n",
       "462    463            8       74             70             40       49  35.3   \n",
       "483    484            0       84             82             31      125  38.2   \n",
       "2388  2389            0      101             64             17        0  21.0   \n",
       "\n",
       "      DiabetesPedigreeFunction  Age  Outcome  \n",
       "1091                     0.731   43        1  \n",
       "1701                     0.258   37        0  \n",
       "462                      0.705   39        0  \n",
       "483                      0.233   23        0  \n",
       "2388                     0.252   21        0  "
      ]
     },
     "execution_count": 8,
     "metadata": {},
     "output_type": "execute_result"
    }
   ],
   "source": [
    "data.sample(5)"
   ]
  },
  {
   "cell_type": "code",
   "execution_count": 10,
   "id": "5a3c6a8b-72d7-4345-8e3c-c8f9e844b7ad",
   "metadata": {},
   "outputs": [],
   "source": [
    "data.drop('Id', axis = 1, inplace = True)"
   ]
  },
  {
   "cell_type": "code",
   "execution_count": 31,
   "id": "1a4535f2-1506-468c-aaa8-6553aad47f29",
   "metadata": {},
   "outputs": [],
   "source": [
    "X = data.iloc[:,:-1]"
   ]
  },
  {
   "cell_type": "code",
   "execution_count": 24,
   "id": "797ff890-971b-4f6e-ae84-988fffaac33b",
   "metadata": {},
   "outputs": [],
   "source": [
    "y = data.Outcome"
   ]
  },
  {
   "cell_type": "code",
   "execution_count": 32,
   "id": "24a05ef2-e8f9-42b3-8279-8c02bd5ab6ca",
   "metadata": {},
   "outputs": [],
   "source": [
    "X = X.to_numpy()\n",
    "y = y.to_numpy()"
   ]
  },
  {
   "cell_type": "code",
   "execution_count": 36,
   "id": "9d168cb0-b3e1-4334-9caa-da16d2d41cd5",
   "metadata": {},
   "outputs": [],
   "source": [
    "X_train, X_test, y_train, y_test = train_test_split(X, y, test_size = 0.2, random_state = 1)"
   ]
  },
  {
   "cell_type": "code",
   "execution_count": 38,
   "id": "482ac179-a66d-480a-aca1-2659b7d84e2e",
   "metadata": {},
   "outputs": [
    {
     "name": "stdout",
     "output_type": "stream",
     "text": [
      "X_train shape : (2214, 8)\n",
      "X_test shape  : (554, 8)\n",
      "y_train shape : (2214,)\n",
      "y_test shape  : (554,)\n"
     ]
    }
   ],
   "source": [
    "print(f'X_train shape : {X_train.shape}')\n",
    "print(f'X_test shape  : {X_test.shape}')\n",
    "print(f'y_train shape : {y_train.shape}')\n",
    "print(f'y_test shape  : {y_test.shape}')"
   ]
  },
  {
   "cell_type": "code",
   "execution_count": null,
   "id": "b7256109-4455-49e5-9ad6-003e46f172eb",
   "metadata": {},
   "outputs": [],
   "source": []
  },
  {
   "cell_type": "code",
   "execution_count": 99,
   "id": "243f39fa-d04a-44fd-ba08-b3f1e9df7869",
   "metadata": {},
   "outputs": [],
   "source": [
    "# Creating performance dataframe\n",
    "training_performance = pd.DataFrame(columns = ['model_name', 'accuracy', 'precision', 'f1_score', 'recall'])\n",
    "testing_performance = pd.DataFrame(columns = ['model_name', 'accuracy', 'precision', 'f1_score', 'recall'])"
   ]
  },
  {
   "cell_type": "code",
   "execution_count": 85,
   "id": "834810be-6f35-4884-a30d-1295410ed12b",
   "metadata": {},
   "outputs": [],
   "source": [
    "models = {\n",
    "    'SGDClassifier' : SGDClassifier(),\n",
    "    'RidgeClassifier' : RidgeClassifier(),\n",
    "    'RidgeClassifierCV' : RidgeClassifierCV(),    \n",
    "    'LogisticRegression' : LogisticRegression(max_iter = 2000),\n",
    "    'LogisticRegressionCV' : LogisticRegressionCV(max_iter = 2000),    \n",
    "    'DecisionTreeClassifier' : DecisionTreeClassifier(),\n",
    "    'RandomForestClassifier' : RandomForestClassifier(),\n",
    "}"
   ]
  },
  {
   "cell_type": "code",
   "execution_count": 100,
   "id": "8f4c6efb-5fba-46c3-9f27-a99a6b22e606",
   "metadata": {},
   "outputs": [
    {
     "name": "stderr",
     "output_type": "stream",
     "text": [
      "C:\\Users\\Chinna Bhukya\\AppData\\Local\\Temp\\ipykernel_15740\\1374781537.py:44: FutureWarning: The behavior of DataFrame concatenation with empty or all-NA entries is deprecated. In a future version, this will no longer exclude empty or all-NA columns when determining the result dtypes. To retain the old behavior, exclude the relevant entries before the concat operation.\n",
      "  training_performance = pd.concat([training_performance, training_evaluation], ignore_index = True)\n",
      "C:\\Users\\Chinna Bhukya\\AppData\\Local\\Temp\\ipykernel_15740\\1374781537.py:45: FutureWarning: The behavior of DataFrame concatenation with empty or all-NA entries is deprecated. In a future version, this will no longer exclude empty or all-NA columns when determining the result dtypes. To retain the old behavior, exclude the relevant entries before the concat operation.\n",
      "  testing_performance  = pd.concat([testing_performance, testing_evaluation], ignore_index = True)\n"
     ]
    }
   ],
   "source": [
    "for name, model in models.items():\n",
    "    instance = model\n",
    "    # Training\n",
    "    instance.fit(X_train, y_train)\n",
    "    \n",
    "    # Prediction\n",
    "    y_pred_train = instance.predict(X_train)\n",
    "    y_pred_test = instance.predict(X_test)\n",
    "        \n",
    "    # Training Evaluation\n",
    "    training_accuracy  = accuracy_score(y_train, y_pred_train) * 100\n",
    "    training_precision = precision_score(y_train, y_pred_train) * 100\n",
    "    training_f1_score  = f1_score(y_train, y_pred_train) * 100\n",
    "    training_recall    = recall_score(y_train, y_pred_train) * 100\n",
    "\n",
    "    # Testing Evaluaion\n",
    "    testing_accuracy  = accuracy_score(y_test, y_pred_test) * 100\n",
    "    testing_precision = precision_score(y_test, y_pred_test) * 100\n",
    "    testing_f1_score  = f1_score(y_test, y_pred_test) * 100\n",
    "    testing_recall    = recall_score(y_test, y_pred_test) * 100\n",
    "\n",
    "    # Populating Dataframe\n",
    "    training_evaluation = pd.DataFrame.from_dict(data = {\n",
    "                                                            'model_name' : [name],\n",
    "                                                            'accuracy' : [training_accuracy],\n",
    "                                                            'precision' : [training_precision],\n",
    "                                                            'f1_score' : [training_f1_score],\n",
    "                                                            'recall' : [training_recall]\n",
    "                                                        })\n",
    "    \n",
    "    testing_evaluation  = pd.DataFrame(data = {\n",
    "                                                    'model_name' : [name],\n",
    "                                                    'accuracy' : [testing_accuracy],\n",
    "                                                    'precision' : [testing_precision],\n",
    "                                                    'f1_score' : [testing_f1_score],\n",
    "                                                    'recall' : [testing_recall]\n",
    "                                                })\n",
    "\n",
    "    training_performance = pd.concat([training_performance, training_evaluation], ignore_index = True)\n",
    "    testing_performance  = pd.concat([testing_performance, testing_evaluation], ignore_index = True)"
   ]
  },
  {
   "cell_type": "code",
   "execution_count": null,
   "id": "e89694ea-e6be-49ce-a9cc-eed52d8702d5",
   "metadata": {},
   "outputs": [],
   "source": []
  },
  {
   "cell_type": "code",
   "execution_count": 105,
   "id": "bf15a11d-65e1-48d0-9c7a-5e480a93eb18",
   "metadata": {},
   "outputs": [
    {
     "data": {
      "text/html": [
       "<div>\n",
       "<style scoped>\n",
       "    .dataframe tbody tr th:only-of-type {\n",
       "        vertical-align: middle;\n",
       "    }\n",
       "\n",
       "    .dataframe tbody tr th {\n",
       "        vertical-align: top;\n",
       "    }\n",
       "\n",
       "    .dataframe thead th {\n",
       "        text-align: right;\n",
       "    }\n",
       "</style>\n",
       "<table border=\"1\" class=\"dataframe\">\n",
       "  <thead>\n",
       "    <tr style=\"text-align: right;\">\n",
       "      <th></th>\n",
       "      <th>model_name</th>\n",
       "      <th>accuracy</th>\n",
       "      <th>precision</th>\n",
       "      <th>f1_score</th>\n",
       "      <th>recall</th>\n",
       "    </tr>\n",
       "  </thead>\n",
       "  <tbody>\n",
       "    <tr>\n",
       "      <th>0</th>\n",
       "      <td>SGDClassifier</td>\n",
       "      <td>50.948509</td>\n",
       "      <td>41.069460</td>\n",
       "      <td>57.841615</td>\n",
       "      <td>97.769029</td>\n",
       "    </tr>\n",
       "    <tr>\n",
       "      <th>1</th>\n",
       "      <td>RidgeClassifier</td>\n",
       "      <td>78.590786</td>\n",
       "      <td>75.263158</td>\n",
       "      <td>64.414414</td>\n",
       "      <td>56.299213</td>\n",
       "    </tr>\n",
       "    <tr>\n",
       "      <th>2</th>\n",
       "      <td>RidgeClassifierCV</td>\n",
       "      <td>78.455285</td>\n",
       "      <td>75.132275</td>\n",
       "      <td>64.108352</td>\n",
       "      <td>55.905512</td>\n",
       "    </tr>\n",
       "    <tr>\n",
       "      <th>3</th>\n",
       "      <td>LogisticRegression</td>\n",
       "      <td>78.635953</td>\n",
       "      <td>74.450085</td>\n",
       "      <td>65.040650</td>\n",
       "      <td>57.742782</td>\n",
       "    </tr>\n",
       "    <tr>\n",
       "      <th>4</th>\n",
       "      <td>LogisticRegressionCV</td>\n",
       "      <td>78.319783</td>\n",
       "      <td>74.143836</td>\n",
       "      <td>64.338782</td>\n",
       "      <td>56.824147</td>\n",
       "    </tr>\n",
       "    <tr>\n",
       "      <th>5</th>\n",
       "      <td>DecisionTreeClassifier</td>\n",
       "      <td>100.000000</td>\n",
       "      <td>100.000000</td>\n",
       "      <td>100.000000</td>\n",
       "      <td>100.000000</td>\n",
       "    </tr>\n",
       "    <tr>\n",
       "      <th>6</th>\n",
       "      <td>RandomForestClassifier</td>\n",
       "      <td>100.000000</td>\n",
       "      <td>100.000000</td>\n",
       "      <td>100.000000</td>\n",
       "      <td>100.000000</td>\n",
       "    </tr>\n",
       "  </tbody>\n",
       "</table>\n",
       "</div>"
      ],
      "text/plain": [
       "               model_name    accuracy   precision    f1_score      recall\n",
       "0           SGDClassifier   50.948509   41.069460   57.841615   97.769029\n",
       "1         RidgeClassifier   78.590786   75.263158   64.414414   56.299213\n",
       "2       RidgeClassifierCV   78.455285   75.132275   64.108352   55.905512\n",
       "3      LogisticRegression   78.635953   74.450085   65.040650   57.742782\n",
       "4    LogisticRegressionCV   78.319783   74.143836   64.338782   56.824147\n",
       "5  DecisionTreeClassifier  100.000000  100.000000  100.000000  100.000000\n",
       "6  RandomForestClassifier  100.000000  100.000000  100.000000  100.000000"
      ]
     },
     "execution_count": 105,
     "metadata": {},
     "output_type": "execute_result"
    }
   ],
   "source": [
    "training_performance"
   ]
  },
  {
   "cell_type": "code",
   "execution_count": 106,
   "id": "9e7ccf75-cef2-4efe-9509-60742db5e2c8",
   "metadata": {},
   "outputs": [
    {
     "data": {
      "text/html": [
       "<div>\n",
       "<style scoped>\n",
       "    .dataframe tbody tr th:only-of-type {\n",
       "        vertical-align: middle;\n",
       "    }\n",
       "\n",
       "    .dataframe tbody tr th {\n",
       "        vertical-align: top;\n",
       "    }\n",
       "\n",
       "    .dataframe thead th {\n",
       "        text-align: right;\n",
       "    }\n",
       "</style>\n",
       "<table border=\"1\" class=\"dataframe\">\n",
       "  <thead>\n",
       "    <tr style=\"text-align: right;\">\n",
       "      <th></th>\n",
       "      <th>model_name</th>\n",
       "      <th>accuracy</th>\n",
       "      <th>precision</th>\n",
       "      <th>f1_score</th>\n",
       "      <th>recall</th>\n",
       "    </tr>\n",
       "  </thead>\n",
       "  <tbody>\n",
       "    <tr>\n",
       "      <th>0</th>\n",
       "      <td>SGDClassifier</td>\n",
       "      <td>51.263538</td>\n",
       "      <td>40.950226</td>\n",
       "      <td>57.278481</td>\n",
       "      <td>95.263158</td>\n",
       "    </tr>\n",
       "    <tr>\n",
       "      <th>1</th>\n",
       "      <td>RidgeClassifier</td>\n",
       "      <td>76.895307</td>\n",
       "      <td>71.232877</td>\n",
       "      <td>61.904762</td>\n",
       "      <td>54.736842</td>\n",
       "    </tr>\n",
       "    <tr>\n",
       "      <th>2</th>\n",
       "      <td>RidgeClassifierCV</td>\n",
       "      <td>76.714801</td>\n",
       "      <td>71.034483</td>\n",
       "      <td>61.492537</td>\n",
       "      <td>54.210526</td>\n",
       "    </tr>\n",
       "    <tr>\n",
       "      <th>3</th>\n",
       "      <td>LogisticRegression</td>\n",
       "      <td>77.256318</td>\n",
       "      <td>71.333333</td>\n",
       "      <td>62.941176</td>\n",
       "      <td>56.315789</td>\n",
       "    </tr>\n",
       "    <tr>\n",
       "      <th>4</th>\n",
       "      <td>LogisticRegressionCV</td>\n",
       "      <td>77.256318</td>\n",
       "      <td>71.333333</td>\n",
       "      <td>62.941176</td>\n",
       "      <td>56.315789</td>\n",
       "    </tr>\n",
       "    <tr>\n",
       "      <th>5</th>\n",
       "      <td>DecisionTreeClassifier</td>\n",
       "      <td>99.277978</td>\n",
       "      <td>98.437500</td>\n",
       "      <td>98.952880</td>\n",
       "      <td>99.473684</td>\n",
       "    </tr>\n",
       "    <tr>\n",
       "      <th>6</th>\n",
       "      <td>RandomForestClassifier</td>\n",
       "      <td>99.458484</td>\n",
       "      <td>100.000000</td>\n",
       "      <td>99.204244</td>\n",
       "      <td>98.421053</td>\n",
       "    </tr>\n",
       "  </tbody>\n",
       "</table>\n",
       "</div>"
      ],
      "text/plain": [
       "               model_name   accuracy   precision   f1_score     recall\n",
       "0           SGDClassifier  51.263538   40.950226  57.278481  95.263158\n",
       "1         RidgeClassifier  76.895307   71.232877  61.904762  54.736842\n",
       "2       RidgeClassifierCV  76.714801   71.034483  61.492537  54.210526\n",
       "3      LogisticRegression  77.256318   71.333333  62.941176  56.315789\n",
       "4    LogisticRegressionCV  77.256318   71.333333  62.941176  56.315789\n",
       "5  DecisionTreeClassifier  99.277978   98.437500  98.952880  99.473684\n",
       "6  RandomForestClassifier  99.458484  100.000000  99.204244  98.421053"
      ]
     },
     "execution_count": 106,
     "metadata": {},
     "output_type": "execute_result"
    }
   ],
   "source": [
    "testing_performance"
   ]
  },
  {
   "cell_type": "markdown",
   "id": "ff2d95db-24cf-4953-b65a-6d2775a1ca67",
   "metadata": {},
   "source": [
    "- **RandomForestClassifier is the only algorithm which is perfoming well on Training and Testing**"
   ]
  },
  {
   "cell_type": "code",
   "execution_count": null,
   "id": "090958d5-5a06-4134-bf2b-0b0d8c951a50",
   "metadata": {},
   "outputs": [],
   "source": []
  }
 ],
 "metadata": {
  "kernelspec": {
   "display_name": "Python 3 (ipykernel)",
   "language": "python",
   "name": "python3"
  },
  "language_info": {
   "codemirror_mode": {
    "name": "ipython",
    "version": 3
   },
   "file_extension": ".py",
   "mimetype": "text/x-python",
   "name": "python",
   "nbconvert_exporter": "python",
   "pygments_lexer": "ipython3",
   "version": "3.12.4"
  }
 },
 "nbformat": 4,
 "nbformat_minor": 5
}
