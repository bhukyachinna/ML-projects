{
 "cells": [
  {
   "cell_type": "code",
   "execution_count": 1,
   "id": "ff6270ea-da20-4de1-ac1a-73ec85598353",
   "metadata": {},
   "outputs": [],
   "source": [
    "import pandas as pd\n",
    "import numpy as np"
   ]
  },
  {
   "cell_type": "code",
   "execution_count": 2,
   "id": "0d743c20-4379-432c-858c-49a7d1fc246a",
   "metadata": {},
   "outputs": [],
   "source": [
    "# preprocessing\n",
    "from sklearn.preprocessing import StandardScaler\n",
    "from sklearn.preprocessing import MinMaxScaler\n",
    "from sklearn.model_selection import train_test_split\n",
    "\n",
    "# Models\n",
    "from sklearn.linear_model import LogisticRegression\n",
    "from sklearn.linear_model import LogisticRegressionCV\n",
    "from sklearn.linear_model import RidgeClassifier\n",
    "from sklearn.linear_model import RidgeClassifierCV\n",
    "from sklearn.linear_model import SGDClassifier\n",
    "from sklearn.tree import DecisionTreeClassifier\n",
    "from sklearn.ensemble import RandomForestClassifier\n",
    "from sklearn.svm import SVC\n",
    "\n",
    "# Performance evaluation\n",
    "from sklearn.metrics import accuracy_score, precision_score, f1_score, confusion_matrix, recall_score"
   ]
  },
  {
   "cell_type": "code",
   "execution_count": 104,
   "id": "b9a698fc-c99a-41a8-ba14-60688cda77e6",
   "metadata": {},
   "outputs": [],
   "source": [
    "data = pd.read_csv('./Healthcare-Diabetes.csv')"
   ]
  },
  {
   "cell_type": "code",
   "execution_count": 105,
   "id": "d39b29bb-eddc-4ff0-8e77-6a44530026ca",
   "metadata": {},
   "outputs": [
    {
     "data": {
      "text/html": [
       "<div>\n",
       "<style scoped>\n",
       "    .dataframe tbody tr th:only-of-type {\n",
       "        vertical-align: middle;\n",
       "    }\n",
       "\n",
       "    .dataframe tbody tr th {\n",
       "        vertical-align: top;\n",
       "    }\n",
       "\n",
       "    .dataframe thead th {\n",
       "        text-align: right;\n",
       "    }\n",
       "</style>\n",
       "<table border=\"1\" class=\"dataframe\">\n",
       "  <thead>\n",
       "    <tr style=\"text-align: right;\">\n",
       "      <th></th>\n",
       "      <th>Id</th>\n",
       "      <th>Pregnancies</th>\n",
       "      <th>Glucose</th>\n",
       "      <th>BloodPressure</th>\n",
       "      <th>SkinThickness</th>\n",
       "      <th>Insulin</th>\n",
       "      <th>BMI</th>\n",
       "      <th>DiabetesPedigreeFunction</th>\n",
       "      <th>Age</th>\n",
       "      <th>Outcome</th>\n",
       "    </tr>\n",
       "  </thead>\n",
       "  <tbody>\n",
       "    <tr>\n",
       "      <th>0</th>\n",
       "      <td>1</td>\n",
       "      <td>6</td>\n",
       "      <td>148</td>\n",
       "      <td>72</td>\n",
       "      <td>35</td>\n",
       "      <td>0</td>\n",
       "      <td>33.6</td>\n",
       "      <td>0.627</td>\n",
       "      <td>50</td>\n",
       "      <td>1</td>\n",
       "    </tr>\n",
       "    <tr>\n",
       "      <th>1</th>\n",
       "      <td>2</td>\n",
       "      <td>1</td>\n",
       "      <td>85</td>\n",
       "      <td>66</td>\n",
       "      <td>29</td>\n",
       "      <td>0</td>\n",
       "      <td>26.6</td>\n",
       "      <td>0.351</td>\n",
       "      <td>31</td>\n",
       "      <td>0</td>\n",
       "    </tr>\n",
       "    <tr>\n",
       "      <th>2</th>\n",
       "      <td>3</td>\n",
       "      <td>8</td>\n",
       "      <td>183</td>\n",
       "      <td>64</td>\n",
       "      <td>0</td>\n",
       "      <td>0</td>\n",
       "      <td>23.3</td>\n",
       "      <td>0.672</td>\n",
       "      <td>32</td>\n",
       "      <td>1</td>\n",
       "    </tr>\n",
       "    <tr>\n",
       "      <th>3</th>\n",
       "      <td>4</td>\n",
       "      <td>1</td>\n",
       "      <td>89</td>\n",
       "      <td>66</td>\n",
       "      <td>23</td>\n",
       "      <td>94</td>\n",
       "      <td>28.1</td>\n",
       "      <td>0.167</td>\n",
       "      <td>21</td>\n",
       "      <td>0</td>\n",
       "    </tr>\n",
       "    <tr>\n",
       "      <th>4</th>\n",
       "      <td>5</td>\n",
       "      <td>0</td>\n",
       "      <td>137</td>\n",
       "      <td>40</td>\n",
       "      <td>35</td>\n",
       "      <td>168</td>\n",
       "      <td>43.1</td>\n",
       "      <td>2.288</td>\n",
       "      <td>33</td>\n",
       "      <td>1</td>\n",
       "    </tr>\n",
       "  </tbody>\n",
       "</table>\n",
       "</div>"
      ],
      "text/plain": [
       "   Id  Pregnancies  Glucose  BloodPressure  SkinThickness  Insulin   BMI  \\\n",
       "0   1            6      148             72             35        0  33.6   \n",
       "1   2            1       85             66             29        0  26.6   \n",
       "2   3            8      183             64              0        0  23.3   \n",
       "3   4            1       89             66             23       94  28.1   \n",
       "4   5            0      137             40             35      168  43.1   \n",
       "\n",
       "   DiabetesPedigreeFunction  Age  Outcome  \n",
       "0                     0.627   50        1  \n",
       "1                     0.351   31        0  \n",
       "2                     0.672   32        1  \n",
       "3                     0.167   21        0  \n",
       "4                     2.288   33        1  "
      ]
     },
     "execution_count": 105,
     "metadata": {},
     "output_type": "execute_result"
    }
   ],
   "source": [
    "data.head(5)"
   ]
  },
  {
   "cell_type": "code",
   "execution_count": 107,
   "id": "eaa0eb91-ce9e-4ee4-962f-3a7b29b391fd",
   "metadata": {},
   "outputs": [],
   "source": [
    "data.drop('Id', axis = 1, inplace = True)"
   ]
  },
  {
   "cell_type": "code",
   "execution_count": 109,
   "id": "4b5b3efb-5d9a-486d-8467-704131dbd66c",
   "metadata": {},
   "outputs": [
    {
     "data": {
      "text/plain": [
       "(2768, 9)"
      ]
     },
     "execution_count": 109,
     "metadata": {},
     "output_type": "execute_result"
    }
   ],
   "source": [
    "data.shape"
   ]
  },
  {
   "cell_type": "code",
   "execution_count": 14,
   "id": "d1cfaaea-3acd-42bc-8de6-4e534f77b759",
   "metadata": {},
   "outputs": [],
   "source": [
    "X = data.iloc[:,:-1]"
   ]
  },
  {
   "cell_type": "code",
   "execution_count": 15,
   "id": "66ec0dfd-1326-4ece-86c0-5c73a4306851",
   "metadata": {},
   "outputs": [],
   "source": [
    "y = data.Outcome"
   ]
  },
  {
   "cell_type": "code",
   "execution_count": 16,
   "id": "33a48e87-233e-4b0f-baa5-a947d47f159b",
   "metadata": {},
   "outputs": [],
   "source": [
    "X = X.to_numpy()\n",
    "y = y.to_numpy()"
   ]
  },
  {
   "cell_type": "code",
   "execution_count": null,
   "id": "334f698b-3e23-42fe-8544-1676d9afb08f",
   "metadata": {},
   "outputs": [],
   "source": []
  },
  {
   "cell_type": "code",
   "execution_count": 37,
   "id": "42665463-4c05-4582-a0f4-7e8790d3a611",
   "metadata": {},
   "outputs": [],
   "source": [
    "X_train, X_test, y_train, y_test = train_test_split(X, y, test_size = 0.2, random_state = 1)"
   ]
  },
  {
   "cell_type": "code",
   "execution_count": 38,
   "id": "e36608c9-12fa-471c-baf1-b3ef2b0b484a",
   "metadata": {},
   "outputs": [
    {
     "name": "stdout",
     "output_type": "stream",
     "text": [
      "X_train shape : (2214, 8)\n",
      "X_test shape  : (554, 8)\n",
      "y_train shape : (2214,)\n",
      "y_test shape  : (554,)\n"
     ]
    }
   ],
   "source": [
    "print(f'X_train shape : {X_train.shape}')\n",
    "print(f'X_test shape  : {X_test.shape}')\n",
    "print(f'y_train shape : {y_train.shape}')\n",
    "print(f'y_test shape  : {y_test.shape}')"
   ]
  },
  {
   "cell_type": "code",
   "execution_count": null,
   "id": "eaf56626-00ec-476b-aeb8-4a0ffe57d8e4",
   "metadata": {},
   "outputs": [],
   "source": []
  },
  {
   "cell_type": "code",
   "execution_count": null,
   "id": "a396b2ee-94fb-4ba5-9568-2e877fef5c23",
   "metadata": {},
   "outputs": [],
   "source": []
  },
  {
   "cell_type": "code",
   "execution_count": null,
   "id": "1243db3c-bb56-4c2f-b190-f705ef9e9ebf",
   "metadata": {},
   "outputs": [],
   "source": []
  },
  {
   "cell_type": "code",
   "execution_count": 19,
   "id": "20ff6f43-5258-4016-a27b-bd30f7d5ccb2",
   "metadata": {},
   "outputs": [],
   "source": [
    "std = StandardScaler()\n",
    "X_train_scaled = std.fit_transform(X_train)\n",
    "X_test_scaled = std.transform(X_test)"
   ]
  },
  {
   "cell_type": "code",
   "execution_count": null,
   "id": "56ab5b2f-1131-452c-8e90-303a53ff24a4",
   "metadata": {},
   "outputs": [],
   "source": []
  },
  {
   "cell_type": "code",
   "execution_count": 22,
   "id": "92efe8f6-2463-4445-88bc-c741db454744",
   "metadata": {},
   "outputs": [],
   "source": [
    "# Creating performance dataframe\n",
    "training_performance = pd.DataFrame(columns = ['model_name', 'std_accuracy', 'std_precision', 'std_f1_score', 'std_recall'])\n",
    "testing_performance = pd.DataFrame(columns = ['model_name', 'std_accuracy', 'std_precision', 'std_f1_score', 'std_recall'])"
   ]
  },
  {
   "cell_type": "code",
   "execution_count": 23,
   "id": "682495ae-1e76-4ae7-a764-c771dc8d38d5",
   "metadata": {},
   "outputs": [],
   "source": [
    "models = {\n",
    "    'SGDClassifier' : SGDClassifier(),\n",
    "    'RidgeClassifier' : RidgeClassifier(),\n",
    "    'RidgeClassifierCV' : RidgeClassifierCV(),    \n",
    "    'LogisticRegression' : LogisticRegression(max_iter = 2000),\n",
    "    'LogisticRegressionCV' : LogisticRegressionCV(max_iter = 2000),    \n",
    "    'DecisionTreeClassifier' : DecisionTreeClassifier(),\n",
    "    'RandomForestClassifier' : RandomForestClassifier(),\n",
    "}"
   ]
  },
  {
   "cell_type": "code",
   "execution_count": 24,
   "id": "4e61c217-9163-4446-a172-22af00ac0559",
   "metadata": {},
   "outputs": [
    {
     "name": "stderr",
     "output_type": "stream",
     "text": [
      "C:\\Users\\Chinna Bhukya\\AppData\\Local\\Temp\\ipykernel_24088\\3863836301.py:39: FutureWarning: The behavior of DataFrame concatenation with empty or all-NA entries is deprecated. In a future version, this will no longer exclude empty or all-NA columns when determining the result dtypes. To retain the old behavior, exclude the relevant entries before the concat operation.\n",
      "  training_performance = pd.concat([training_performance, training_evaluation], ignore_index = True)\n",
      "C:\\Users\\Chinna Bhukya\\AppData\\Local\\Temp\\ipykernel_24088\\3863836301.py:40: FutureWarning: The behavior of DataFrame concatenation with empty or all-NA entries is deprecated. In a future version, this will no longer exclude empty or all-NA columns when determining the result dtypes. To retain the old behavior, exclude the relevant entries before the concat operation.\n",
      "  testing_performance  = pd.concat([testing_performance, testing_evaluation], ignore_index = True)\n"
     ]
    }
   ],
   "source": [
    "for name, model in models.items():\n",
    "    instance = model\n",
    "    # Training\n",
    "    instance.fit(X_train_scaled, y_train)\n",
    "    \n",
    "    # Prediction\n",
    "    y_pred_train = instance.predict(X_train_scaled)\n",
    "    y_pred_test = instance.predict(X_test_scaled)\n",
    "        \n",
    "    # Training Evaluation\n",
    "    training_accuracy  = accuracy_score(y_train, y_pred_train) * 100\n",
    "    training_precision = precision_score(y_train, y_pred_train) * 100\n",
    "    training_f1_score  = f1_score(y_train, y_pred_train) * 100\n",
    "    training_recall    = recall_score(y_train, y_pred_train) * 100\n",
    "\n",
    "    # Testing Evaluaion\n",
    "    testing_accuracy  = accuracy_score(y_test, y_pred_test) * 100\n",
    "    testing_precision = precision_score(y_test, y_pred_test) * 100\n",
    "    testing_f1_score  = f1_score(y_test, y_pred_test) * 100\n",
    "    testing_recall    = recall_score(y_test, y_pred_test) * 100\n",
    "\n",
    "    # Populating Dataframe\n",
    "    training_evaluation = pd.DataFrame.from_dict(data = {\n",
    "                                                            'model_name' : [name],\n",
    "                                                            'std_accuracy' : [training_accuracy],\n",
    "                                                            'std_precision' : [training_precision],\n",
    "                                                            'std_f1_score' : [training_f1_score],\n",
    "                                                            'std_recall' : [training_recall]\n",
    "                                                        })\n",
    "    \n",
    "    testing_evaluation  = pd.DataFrame(data = {\n",
    "                                                    'model_name' : [name],\n",
    "                                                    'std_accuracy' : [testing_accuracy],\n",
    "                                                    'std_precision' : [testing_precision],\n",
    "                                                    'std_f1_score' : [testing_f1_score],\n",
    "                                                    'std_recall' : [testing_recall]\n",
    "                                                })\n",
    "\n",
    "    training_performance = pd.concat([training_performance, training_evaluation], ignore_index = True)\n",
    "    testing_performance  = pd.concat([testing_performance, testing_evaluation], ignore_index = True)"
   ]
  },
  {
   "cell_type": "code",
   "execution_count": 25,
   "id": "3fff7951-f807-4ce4-a84b-5622fa8fd96a",
   "metadata": {},
   "outputs": [
    {
     "data": {
      "text/html": [
       "<div>\n",
       "<style scoped>\n",
       "    .dataframe tbody tr th:only-of-type {\n",
       "        vertical-align: middle;\n",
       "    }\n",
       "\n",
       "    .dataframe tbody tr th {\n",
       "        vertical-align: top;\n",
       "    }\n",
       "\n",
       "    .dataframe thead th {\n",
       "        text-align: right;\n",
       "    }\n",
       "</style>\n",
       "<table border=\"1\" class=\"dataframe\">\n",
       "  <thead>\n",
       "    <tr style=\"text-align: right;\">\n",
       "      <th></th>\n",
       "      <th>model_name</th>\n",
       "      <th>std_accuracy</th>\n",
       "      <th>std_precision</th>\n",
       "      <th>std_f1_score</th>\n",
       "      <th>std_recall</th>\n",
       "    </tr>\n",
       "  </thead>\n",
       "  <tbody>\n",
       "    <tr>\n",
       "      <th>0</th>\n",
       "      <td>SGDClassifier</td>\n",
       "      <td>77.190605</td>\n",
       "      <td>77.398721</td>\n",
       "      <td>58.976442</td>\n",
       "      <td>47.637795</td>\n",
       "    </tr>\n",
       "    <tr>\n",
       "      <th>1</th>\n",
       "      <td>RidgeClassifier</td>\n",
       "      <td>78.590786</td>\n",
       "      <td>75.263158</td>\n",
       "      <td>64.414414</td>\n",
       "      <td>56.299213</td>\n",
       "    </tr>\n",
       "    <tr>\n",
       "      <th>2</th>\n",
       "      <td>RidgeClassifierCV</td>\n",
       "      <td>78.455285</td>\n",
       "      <td>75.132275</td>\n",
       "      <td>64.108352</td>\n",
       "      <td>55.905512</td>\n",
       "    </tr>\n",
       "    <tr>\n",
       "      <th>3</th>\n",
       "      <td>LogisticRegression</td>\n",
       "      <td>78.319783</td>\n",
       "      <td>74.143836</td>\n",
       "      <td>64.338782</td>\n",
       "      <td>56.824147</td>\n",
       "    </tr>\n",
       "    <tr>\n",
       "      <th>4</th>\n",
       "      <td>LogisticRegressionCV</td>\n",
       "      <td>78.229449</td>\n",
       "      <td>74.054983</td>\n",
       "      <td>64.136905</td>\n",
       "      <td>56.561680</td>\n",
       "    </tr>\n",
       "    <tr>\n",
       "      <th>5</th>\n",
       "      <td>DecisionTreeClassifier</td>\n",
       "      <td>100.000000</td>\n",
       "      <td>100.000000</td>\n",
       "      <td>100.000000</td>\n",
       "      <td>100.000000</td>\n",
       "    </tr>\n",
       "    <tr>\n",
       "      <th>6</th>\n",
       "      <td>RandomForestClassifier</td>\n",
       "      <td>100.000000</td>\n",
       "      <td>100.000000</td>\n",
       "      <td>100.000000</td>\n",
       "      <td>100.000000</td>\n",
       "    </tr>\n",
       "  </tbody>\n",
       "</table>\n",
       "</div>"
      ],
      "text/plain": [
       "               model_name  std_accuracy  std_precision  std_f1_score  \\\n",
       "0           SGDClassifier     77.190605      77.398721     58.976442   \n",
       "1         RidgeClassifier     78.590786      75.263158     64.414414   \n",
       "2       RidgeClassifierCV     78.455285      75.132275     64.108352   \n",
       "3      LogisticRegression     78.319783      74.143836     64.338782   \n",
       "4    LogisticRegressionCV     78.229449      74.054983     64.136905   \n",
       "5  DecisionTreeClassifier    100.000000     100.000000    100.000000   \n",
       "6  RandomForestClassifier    100.000000     100.000000    100.000000   \n",
       "\n",
       "   std_recall  \n",
       "0   47.637795  \n",
       "1   56.299213  \n",
       "2   55.905512  \n",
       "3   56.824147  \n",
       "4   56.561680  \n",
       "5  100.000000  \n",
       "6  100.000000  "
      ]
     },
     "execution_count": 25,
     "metadata": {},
     "output_type": "execute_result"
    }
   ],
   "source": [
    "training_performance"
   ]
  },
  {
   "cell_type": "code",
   "execution_count": 26,
   "id": "5858aa7c-3e29-4a85-afc0-d0d7b6f1b061",
   "metadata": {},
   "outputs": [
    {
     "data": {
      "text/html": [
       "<div>\n",
       "<style scoped>\n",
       "    .dataframe tbody tr th:only-of-type {\n",
       "        vertical-align: middle;\n",
       "    }\n",
       "\n",
       "    .dataframe tbody tr th {\n",
       "        vertical-align: top;\n",
       "    }\n",
       "\n",
       "    .dataframe thead th {\n",
       "        text-align: right;\n",
       "    }\n",
       "</style>\n",
       "<table border=\"1\" class=\"dataframe\">\n",
       "  <thead>\n",
       "    <tr style=\"text-align: right;\">\n",
       "      <th></th>\n",
       "      <th>model_name</th>\n",
       "      <th>std_accuracy</th>\n",
       "      <th>std_precision</th>\n",
       "      <th>std_f1_score</th>\n",
       "      <th>std_recall</th>\n",
       "    </tr>\n",
       "  </thead>\n",
       "  <tbody>\n",
       "    <tr>\n",
       "      <th>0</th>\n",
       "      <td>SGDClassifier</td>\n",
       "      <td>75.270758</td>\n",
       "      <td>73.451327</td>\n",
       "      <td>54.785479</td>\n",
       "      <td>43.684211</td>\n",
       "    </tr>\n",
       "    <tr>\n",
       "      <th>1</th>\n",
       "      <td>RidgeClassifier</td>\n",
       "      <td>76.895307</td>\n",
       "      <td>71.232877</td>\n",
       "      <td>61.904762</td>\n",
       "      <td>54.736842</td>\n",
       "    </tr>\n",
       "    <tr>\n",
       "      <th>2</th>\n",
       "      <td>RidgeClassifierCV</td>\n",
       "      <td>76.714801</td>\n",
       "      <td>71.034483</td>\n",
       "      <td>61.492537</td>\n",
       "      <td>54.210526</td>\n",
       "    </tr>\n",
       "    <tr>\n",
       "      <th>3</th>\n",
       "      <td>LogisticRegression</td>\n",
       "      <td>77.256318</td>\n",
       "      <td>71.333333</td>\n",
       "      <td>62.941176</td>\n",
       "      <td>56.315789</td>\n",
       "    </tr>\n",
       "    <tr>\n",
       "      <th>4</th>\n",
       "      <td>LogisticRegressionCV</td>\n",
       "      <td>77.075812</td>\n",
       "      <td>71.140940</td>\n",
       "      <td>62.536873</td>\n",
       "      <td>55.789474</td>\n",
       "    </tr>\n",
       "    <tr>\n",
       "      <th>5</th>\n",
       "      <td>DecisionTreeClassifier</td>\n",
       "      <td>99.097473</td>\n",
       "      <td>97.927461</td>\n",
       "      <td>98.694517</td>\n",
       "      <td>99.473684</td>\n",
       "    </tr>\n",
       "    <tr>\n",
       "      <th>6</th>\n",
       "      <td>RandomForestClassifier</td>\n",
       "      <td>99.638989</td>\n",
       "      <td>100.000000</td>\n",
       "      <td>99.470899</td>\n",
       "      <td>98.947368</td>\n",
       "    </tr>\n",
       "  </tbody>\n",
       "</table>\n",
       "</div>"
      ],
      "text/plain": [
       "               model_name  std_accuracy  std_precision  std_f1_score  \\\n",
       "0           SGDClassifier     75.270758      73.451327     54.785479   \n",
       "1         RidgeClassifier     76.895307      71.232877     61.904762   \n",
       "2       RidgeClassifierCV     76.714801      71.034483     61.492537   \n",
       "3      LogisticRegression     77.256318      71.333333     62.941176   \n",
       "4    LogisticRegressionCV     77.075812      71.140940     62.536873   \n",
       "5  DecisionTreeClassifier     99.097473      97.927461     98.694517   \n",
       "6  RandomForestClassifier     99.638989     100.000000     99.470899   \n",
       "\n",
       "   std_recall  \n",
       "0   43.684211  \n",
       "1   54.736842  \n",
       "2   54.210526  \n",
       "3   56.315789  \n",
       "4   55.789474  \n",
       "5   99.473684  \n",
       "6   98.947368  "
      ]
     },
     "execution_count": 26,
     "metadata": {},
     "output_type": "execute_result"
    }
   ],
   "source": [
    "testing_performance"
   ]
  },
  {
   "cell_type": "markdown",
   "id": "7602d822-164f-46eb-b575-0e39b0d18f06",
   "metadata": {},
   "source": [
    "- Overall RandomForestClassifier is performing well"
   ]
  },
  {
   "cell_type": "code",
   "execution_count": null,
   "id": "a20b4a99-66f5-4824-8bac-e856ec362ae1",
   "metadata": {},
   "outputs": [],
   "source": []
  },
  {
   "cell_type": "code",
   "execution_count": null,
   "id": "12e7913d-b9e8-4d54-8545-b69dce8a6c97",
   "metadata": {},
   "outputs": [],
   "source": []
  },
  {
   "cell_type": "code",
   "execution_count": null,
   "id": "607e2289-9180-4117-92e8-f4ca91397253",
   "metadata": {},
   "outputs": [],
   "source": []
  }
 ],
 "metadata": {
  "kernelspec": {
   "display_name": "Python 3 (ipykernel)",
   "language": "python",
   "name": "python3"
  },
  "language_info": {
   "codemirror_mode": {
    "name": "ipython",
    "version": 3
   },
   "file_extension": ".py",
   "mimetype": "text/x-python",
   "name": "python",
   "nbconvert_exporter": "python",
   "pygments_lexer": "ipython3",
   "version": "3.12.4"
  }
 },
 "nbformat": 4,
 "nbformat_minor": 5
}
